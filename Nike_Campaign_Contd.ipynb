{
  "nbformat": 4,
  "nbformat_minor": 0,
  "metadata": {
    "colab": {
      "name": "Nike_Campaign_Contd",
      "provenance": [],
      "collapsed_sections": [],
      "mount_file_id": "14BaN25Ftq_qoQ0LUQOA7IgTj7iWrOCle",
      "authorship_tag": "ABX9TyNH1CjzZjiuc4RU5f7+E7U+",
      "include_colab_link": true
    },
    "kernelspec": {
      "name": "python3",
      "display_name": "Python 3"
    }
  },
  "cells": [
    {
      "cell_type": "markdown",
      "metadata": {
        "id": "view-in-github",
        "colab_type": "text"
      },
      "source": [
        "<a href=\"https://colab.research.google.com/github/dmarinere/NikeCampaign/blob/master/Nike_Campaign_Contd.ipynb\" target=\"_parent\"><img src=\"https://colab.research.google.com/assets/colab-badge.svg\" alt=\"Open In Colab\"/></a>"
      ]
    },
    {
      "cell_type": "markdown",
      "metadata": {
        "id": "mhwLmU5QSdGM",
        "colab_type": "text"
      },
      "source": [
        ""
      ]
    },
    {
      "cell_type": "markdown",
      "metadata": {
        "id": "0Nhk6H9CSc86",
        "colab_type": "text"
      },
      "source": [
        ""
      ]
    },
    {
      "cell_type": "code",
      "metadata": {
        "id": "6No2AnpSLQi_",
        "colab_type": "code",
        "colab": {}
      },
      "source": [
        "import pandas as pd\n",
        "\n",
        "import seaborn as sns\n",
        "import numpy as np\n",
        "from sklearn.cluster import KMeans\n",
        "import seaborn as sns\n",
        "## Importing the libraries:\n",
        "import os, sys\n",
        "import matplotlib.font_manager as font_manager\n",
        "import cachetools.func\n",
        "\n",
        "import matplotlib \n",
        "matplotlib.rc('xtick', labelsize=20) \n",
        "matplotlib.rc('ytick', labelsize=20) \n",
        "import matplotlib.colors as colors\n",
        "import matplotlib.pyplot as plt\n",
        "import warnings\n",
        "\n",
        "warnings.filterwarnings(\"ignore\")\n",
        "import pandas as pd\n",
        "import numpy as np\n",
        "\n",
        "import seaborn as sns\n",
        "sns.set()"
      ],
      "execution_count": 18,
      "outputs": []
    },
    {
      "cell_type": "code",
      "metadata": {
        "id": "Jaew2ja2Cbw2",
        "colab_type": "code",
        "colab": {}
      },
      "source": [
        "df_infl = pd.read_csv(\"/content/drive/My Drive/Colab Notebooks/all_influencers_tweets.csv\")\n",
        "df_gov = pd.read_csv(\"/content/drive/My Drive/Colab Notebooks/all_government_tweets.csv\")"
      ],
      "execution_count": 19,
      "outputs": []
    },
    {
      "cell_type": "code",
      "metadata": {
        "id": "OnIk7drSRZYg",
        "colab_type": "code",
        "colab": {}
      },
      "source": [
        "#i started with using the assumption that we made about less than 5 tweets\n",
        "df_infl = df_infl[df_infl['original_author'].map(df_infl['original_author'].value_counts()) > 5]\n",
        "df_gov = df_gov[df_gov['original_author'].map(df_gov['original_author'].value_counts()) > 5]"
      ],
      "execution_count": 20,
      "outputs": []
    },
    {
      "cell_type": "code",
      "metadata": {
        "id": "PzIxt44_zFu7",
        "colab_type": "code",
        "colab": {}
      },
      "source": [
        "#i would start would creating a new dataframe that has no duplicate author so i could get some data\n",
        "df_new_infl= df_infl.drop_duplicates(subset =\"original_author\",)\n",
        "df_new_gov = df_gov.drop_duplicates(subset =\"original_author\")\n",
        "df_new_gov.reset_index(drop=True, inplace=True)\n",
        "df_new_infl.reset_index(drop=True, inplace=True)"
      ],
      "execution_count": 21,
      "outputs": []
    },
    {
      "cell_type": "code",
      "metadata": {
        "id": "SATdWvOvhkhU",
        "colab_type": "code",
        "colab": {}
      },
      "source": [
        "#i converted some columns from object to int so we can work with them easily\n",
        "df_new_infl = df_new_infl.astype({'favorite_count': 'int64', 'retweet_count': 'int64','following': 'int64' })\n",
        "df_infl = df_infl.astype({'favorite_count': 'int64', 'retweet_count': 'int64','following': 'int64' })"
      ],
      "execution_count": 22,
      "outputs": []
    },
    {
      "cell_type": "code",
      "metadata": {
        "id": "cbyHFIRFO8FQ",
        "colab_type": "code",
        "colab": {}
      },
      "source": [
        "# i would start with getting the reach score for all the influencers and leaders \n",
        "df_new_gov['reach'] = df_new_gov.apply(lambda x: float(x['followers']) - float(x['following']), axis=1)\n",
        "df_new_infl['reach'] = df_new_infl.apply(lambda x: float(x['followers']) - float(x['following']), axis=1)"
      ],
      "execution_count": 23,
      "outputs": []
    },
    {
      "cell_type": "code",
      "metadata": {
        "id": "ecX8hhY1ctMd",
        "colab_type": "code",
        "colab": {
          "base_uri": "https://localhost:8080/",
          "height": 394
        },
        "outputId": "5db0b32c-8f53-448e-dea1-2a9df94a714c"
      },
      "source": [
        "df_new_gov.head()"
      ],
      "execution_count": 24,
      "outputs": [
        {
          "output_type": "execute_result",
          "data": {
            "text/html": [
              "<div>\n",
              "<style scoped>\n",
              "    .dataframe tbody tr th:only-of-type {\n",
              "        vertical-align: middle;\n",
              "    }\n",
              "\n",
              "    .dataframe tbody tr th {\n",
              "        vertical-align: top;\n",
              "    }\n",
              "\n",
              "    .dataframe thead th {\n",
              "        text-align: right;\n",
              "    }\n",
              "</style>\n",
              "<table border=\"1\" class=\"dataframe\">\n",
              "  <thead>\n",
              "    <tr style=\"text-align: right;\">\n",
              "      <th></th>\n",
              "      <th>created_at</th>\n",
              "      <th>source</th>\n",
              "      <th>original_text</th>\n",
              "      <th>lang</th>\n",
              "      <th>favorite_count</th>\n",
              "      <th>retweet_count</th>\n",
              "      <th>original_author</th>\n",
              "      <th>name</th>\n",
              "      <th>following</th>\n",
              "      <th>followers</th>\n",
              "      <th>hashtags</th>\n",
              "      <th>mention</th>\n",
              "      <th>place_coord_boundaries</th>\n",
              "      <th>location</th>\n",
              "      <th>reach</th>\n",
              "    </tr>\n",
              "  </thead>\n",
              "  <tbody>\n",
              "    <tr>\n",
              "      <th>0</th>\n",
              "      <td>Mon Jun 01 09:04:35 +0000 2020</td>\n",
              "      <td>&lt;a href=\"https://mobile.twitter.com\" rel=\"nofo...</td>\n",
              "      <td>\"on my windhorse, at sunrise, i come riding\". ...</td>\n",
              "      <td>en</td>\n",
              "      <td>14</td>\n",
              "      <td>7</td>\n",
              "      <td>p</td>\n",
              "      <td>paolo i.</td>\n",
              "      <td>284</td>\n",
              "      <td>34861</td>\n",
              "      <td>NaN</td>\n",
              "      <td>NaN</td>\n",
              "      <td>NaN</td>\n",
              "      <td>trailing away. offshore</td>\n",
              "      <td>34577.0</td>\n",
              "    </tr>\n",
              "    <tr>\n",
              "      <th>1</th>\n",
              "      <td>Fri Jul 17 08:18:45 +0000 2020</td>\n",
              "      <td>&lt;a href=\"http://tapbots.com/tweetbot\" rel=\"nof...</td>\n",
              "      <td>@ElderlyBadger I read one of his books and I n...</td>\n",
              "      <td>en</td>\n",
              "      <td>0</td>\n",
              "      <td>0</td>\n",
              "      <td>a</td>\n",
              "      <td>Andrei Zmievski</td>\n",
              "      <td>300</td>\n",
              "      <td>140272</td>\n",
              "      <td>NaN</td>\n",
              "      <td>ElderlyBadger</td>\n",
              "      <td>NaN</td>\n",
              "      <td>Austin, TX</td>\n",
              "      <td>139972.0</td>\n",
              "    </tr>\n",
              "    <tr>\n",
              "      <th>2</th>\n",
              "      <td>Thu Jul 16 21:55:36 +0000 2020</td>\n",
              "      <td>&lt;a href=\"https://mobile.twitter.com\" rel=\"nofo...</td>\n",
              "      <td>granite plate, glass door https://t.co/LeMHwJdTSg</td>\n",
              "      <td>en</td>\n",
              "      <td>11</td>\n",
              "      <td>2</td>\n",
              "      <td>u</td>\n",
              "      <td>u</td>\n",
              "      <td>0</td>\n",
              "      <td>313</td>\n",
              "      <td>NaN</td>\n",
              "      <td>NaN</td>\n",
              "      <td>NaN</td>\n",
              "      <td>NaN</td>\n",
              "      <td>313.0</td>\n",
              "    </tr>\n",
              "    <tr>\n",
              "      <th>3</th>\n",
              "      <td>Thu Jul 16 17:10:23 +0000 2020</td>\n",
              "      <td>&lt;a href=\"http://twitter.com/download/iphone\" r...</td>\n",
              "      <td>Our determination to entrench transparency and...</td>\n",
              "      <td>en</td>\n",
              "      <td>1589</td>\n",
              "      <td>411</td>\n",
              "      <td>MBuhari</td>\n",
              "      <td>Muhammadu Buhari</td>\n",
              "      <td>26</td>\n",
              "      <td>3268751</td>\n",
              "      <td>NaN</td>\n",
              "      <td>NaN</td>\n",
              "      <td>NaN</td>\n",
              "      <td>NaN</td>\n",
              "      <td>3268725.0</td>\n",
              "    </tr>\n",
              "    <tr>\n",
              "      <th>4</th>\n",
              "      <td>Sat Jul 04 16:09:01 +0000 2020</td>\n",
              "      <td>&lt;a href=\"http://twitter.com/download/android\" ...</td>\n",
              "      <td>Tested as we've been by the oddest of the odds...</td>\n",
              "      <td>en</td>\n",
              "      <td>3243</td>\n",
              "      <td>993</td>\n",
              "      <td>PaulKagame</td>\n",
              "      <td>Paul Kagame</td>\n",
              "      <td>181</td>\n",
              "      <td>1981691</td>\n",
              "      <td>NaN</td>\n",
              "      <td>NaN</td>\n",
              "      <td>NaN</td>\n",
              "      <td>Rwanda, Africa</td>\n",
              "      <td>1981510.0</td>\n",
              "    </tr>\n",
              "  </tbody>\n",
              "</table>\n",
              "</div>"
            ],
            "text/plain": [
              "                       created_at  ...      reach\n",
              "0  Mon Jun 01 09:04:35 +0000 2020  ...    34577.0\n",
              "1  Fri Jul 17 08:18:45 +0000 2020  ...   139972.0\n",
              "2  Thu Jul 16 21:55:36 +0000 2020  ...      313.0\n",
              "3  Thu Jul 16 17:10:23 +0000 2020  ...  3268725.0\n",
              "4  Sat Jul 04 16:09:01 +0000 2020  ...  1981510.0\n",
              "\n",
              "[5 rows x 15 columns]"
            ]
          },
          "metadata": {
            "tags": []
          },
          "execution_count": 24
        }
      ]
    },
    {
      "cell_type": "code",
      "metadata": {
        "id": "kyxq1lOIdP3K",
        "colab_type": "code",
        "colab": {}
      },
      "source": [
        "a = [\"u\", \"p\", \"a\", \"KGeorgieva\", \"paolo i.\"]\n",
        "df_new_gov = df_new_gov[~df_new_gov['original_author'].isin(a)]\n"
      ],
      "execution_count": 25,
      "outputs": []
    },
    {
      "cell_type": "code",
      "metadata": {
        "id": "V3lpMtWj1DhF",
        "colab_type": "code",
        "colab": {}
      },
      "source": [
        "#we have been able to succesfully get the reach of all the influencer i would go ahead to sort each of them by reach\n",
        "df_new_infl =df_new_infl.sort_values(by='reach', ascending=False)\n",
        "df_new_gov=df_new_gov.sort_values(by=\"reach\", ascending=False)\n",
        "df_new_gov.reset_index(drop=True, inplace=True)\n",
        "df_new_infl.reset_index(drop=True, inplace=True)"
      ],
      "execution_count": 26,
      "outputs": []
    },
    {
      "cell_type": "code",
      "metadata": {
        "id": "1oFvgy1Xk6QJ",
        "colab_type": "code",
        "colab": {}
      },
      "source": [
        "df_gov_rank = df_new_gov[['original_author','name','followers', 'following','reach']]\n",
        "df_infl_rank = df_new_infl[['original_author','name','followers', 'following','reach']]"
      ],
      "execution_count": 27,
      "outputs": []
    },
    {
      "cell_type": "code",
      "metadata": {
        "id": "OSx0FJ7-lt9O",
        "colab_type": "code",
        "colab": {}
      },
      "source": [
        "#rank them by reach\n",
        "df_gov_rank[\"Rank: By Reach\"] =df_gov_rank['reach'].rank(ascending=False)\n",
        "df_infl_rank[\"Rank: By Reach\"] = df_infl_rank['reach'].rank(ascending=False)"
      ],
      "execution_count": 28,
      "outputs": []
    },
    {
      "cell_type": "code",
      "metadata": {
        "id": "yTTSLs9VK1TW",
        "colab_type": "code",
        "colab": {}
      },
      "source": [
        "gov_name = {}\n",
        "for name in range(len(df_gov_rank)):\n",
        "     gov_name[df_gov_rank['original_author'][name]]= df_gov_rank['name'][name]"
      ],
      "execution_count": 29,
      "outputs": []
    },
    {
      "cell_type": "code",
      "metadata": {
        "id": "AYiLW8G2Lnr_",
        "colab_type": "code",
        "colab": {}
      },
      "source": [
        "infl_name = {}\n",
        "for name in range(len(df_infl_rank)):\n",
        "     infl_name[df_infl_rank['original_author'][name]]= df_infl_rank['name'][name]"
      ],
      "execution_count": 30,
      "outputs": []
    },
    {
      "cell_type": "code",
      "metadata": {
        "id": "Lz_TLMvRdbNq",
        "colab_type": "code",
        "colab": {
          "base_uri": "https://localhost:8080/",
          "height": 204
        },
        "outputId": "1464ead6-3dcd-4614-a52b-917429e17843"
      },
      "source": [
        "df_gov_rank.head()"
      ],
      "execution_count": 31,
      "outputs": [
        {
          "output_type": "execute_result",
          "data": {
            "text/html": [
              "<div>\n",
              "<style scoped>\n",
              "    .dataframe tbody tr th:only-of-type {\n",
              "        vertical-align: middle;\n",
              "    }\n",
              "\n",
              "    .dataframe tbody tr th {\n",
              "        vertical-align: top;\n",
              "    }\n",
              "\n",
              "    .dataframe thead th {\n",
              "        text-align: right;\n",
              "    }\n",
              "</style>\n",
              "<table border=\"1\" class=\"dataframe\">\n",
              "  <thead>\n",
              "    <tr style=\"text-align: right;\">\n",
              "      <th></th>\n",
              "      <th>original_author</th>\n",
              "      <th>name</th>\n",
              "      <th>followers</th>\n",
              "      <th>following</th>\n",
              "      <th>reach</th>\n",
              "      <th>Rank: By Reach</th>\n",
              "    </tr>\n",
              "  </thead>\n",
              "  <tbody>\n",
              "    <tr>\n",
              "      <th>0</th>\n",
              "      <td>MBuhari</td>\n",
              "      <td>Muhammadu Buhari</td>\n",
              "      <td>3268751</td>\n",
              "      <td>26</td>\n",
              "      <td>3268725.0</td>\n",
              "      <td>1.0</td>\n",
              "    </tr>\n",
              "    <tr>\n",
              "      <th>1</th>\n",
              "      <td>PaulKagame</td>\n",
              "      <td>Paul Kagame</td>\n",
              "      <td>1981691</td>\n",
              "      <td>181</td>\n",
              "      <td>1981510.0</td>\n",
              "      <td>2.0</td>\n",
              "    </tr>\n",
              "    <tr>\n",
              "      <th>2</th>\n",
              "      <td>KagutaMuseveni</td>\n",
              "      <td>Yoweri K Museveni</td>\n",
              "      <td>1810417</td>\n",
              "      <td>28</td>\n",
              "      <td>1810389.0</td>\n",
              "      <td>3.0</td>\n",
              "    </tr>\n",
              "    <tr>\n",
              "      <th>3</th>\n",
              "      <td>PresidencyZA</td>\n",
              "      <td>Presidency | South Africa 🇿🇦</td>\n",
              "      <td>1597615</td>\n",
              "      <td>14</td>\n",
              "      <td>1597601.0</td>\n",
              "      <td>4.0</td>\n",
              "    </tr>\n",
              "    <tr>\n",
              "      <th>4</th>\n",
              "      <td>NAkufoAddo</td>\n",
              "      <td>Nana Akufo-Addo</td>\n",
              "      <td>1505263</td>\n",
              "      <td>352</td>\n",
              "      <td>1504911.0</td>\n",
              "      <td>5.0</td>\n",
              "    </tr>\n",
              "  </tbody>\n",
              "</table>\n",
              "</div>"
            ],
            "text/plain": [
              "  original_author                          name  ...      reach  Rank: By Reach\n",
              "0         MBuhari              Muhammadu Buhari  ...  3268725.0             1.0\n",
              "1      PaulKagame                   Paul Kagame  ...  1981510.0             2.0\n",
              "2  KagutaMuseveni             Yoweri K Museveni  ...  1810389.0             3.0\n",
              "3    PresidencyZA  Presidency | South Africa 🇿🇦  ...  1597601.0             4.0\n",
              "4      NAkufoAddo               Nana Akufo-Addo  ...  1504911.0             5.0\n",
              "\n",
              "[5 rows x 6 columns]"
            ]
          },
          "metadata": {
            "tags": []
          },
          "execution_count": 31
        }
      ]
    },
    {
      "cell_type": "code",
      "metadata": {
        "id": "Pnt-3s0Dl0wF",
        "colab_type": "code",
        "colab": {}
      },
      "source": [
        "sns.set(style='ticks')\n",
        "fig = plt.subplots(figsize=(14,10))\n",
        "chart = sns.barplot(x=\"original_author\", y=\"reach\", data=df_gov_rank[:15])\n",
        "plt.xticks(fontsize = 10, fontweight='bold')\n",
        "plt.yticks(fontsize = 10,fontweight='bold')\n",
        "plt.title(\"A Bar plot showing the top 15 African leaders by Reach(Number of Followers)\", fontsize = 14, fontweight= \"bold\" )\n",
        "plt.xlabel(\"Name\",fontsize = 12, fontweight= \"bold\")\n",
        "plt.ylabel(\"Reach\",fontsize = 12, fontweight= \"bold\", fontfamily=\"sans-serif\")\n",
        "plt.xticks(rotation=45)\n",
        "plt.ticklabel_format(style='plain', axis='y')\n",
        "plt.tight_layout()\n",
        "plt.savefig('/content/drive/My Drive/Colab Notebooks/african_leader_reach44.jpeg');"
      ],
      "execution_count": null,
      "outputs": []
    },
    {
      "cell_type": "code",
      "metadata": {
        "id": "SzXndCxmu981",
        "colab_type": "code",
        "colab": {}
      },
      "source": [
        "sns.set(style='ticks')\n",
        "plt.figure(figsize=(10,8))\n",
        "chart = sns.barplot(x=\"original_author\", y=\"reach\", data=df_infl_rank[:15])\n",
        "plt.title(\"A Bar plot showing the top 15 African influencer by Reach(Number of Followers)\",fontsize = 12, fontweight= \"bold\")\n",
        "plt.xticks(fontsize = 10, fontweight= \"bold\")\n",
        "plt.yticks(fontsize = 10, fontweight= \"bold\")\n",
        "plt.xlabel(\"Name\",fontsize = 12, fontweight= \"bold\")\n",
        "plt.ylabel(\"Reach\",fontsize = 12, fontweight= \"bold\")\n",
        "plt.ticklabel_format(style='plain', axis='y')\n",
        "plt.xticks(rotation=45)\n",
        "plt.tight_layout()\n",
        "plt.savefig('/content/drive/My Drive/Colab Notebooks/african_infl_reach.jpeg');"
      ],
      "execution_count": null,
      "outputs": []
    },
    {
      "cell_type": "markdown",
      "metadata": {
        "id": "cAUhCooN4c5n",
        "colab_type": "text"
      },
      "source": [
        "### Cleaning and recovering the rank by number of retweets and likes"
      ]
    },
    {
      "cell_type": "code",
      "metadata": {
        "id": "boSxKDqeC9CC",
        "colab_type": "code",
        "colab": {}
      },
      "source": [
        "#since i didn't get all the tweets for each of them,  i focused on the sum of the top 100 tweets in the dataset "
      ],
      "execution_count": null,
      "outputs": []
    },
    {
      "cell_type": "code",
      "metadata": {
        "id": "AOrnC8Sz256c",
        "colab_type": "code",
        "colab": {}
      },
      "source": [
        "#then i grouped tweet by author and sort them, then took only the top 100 retweets and like for each\n",
        "#i sorted first by like because it is easier to get likes and those two work hand in hand\n",
        "df_infl_popl = df_infl.sort_values(['favorite_count', 'retweet_count'], ascending=False).groupby('original_author').sum().reset_index()\n",
        "df_gov_popl = df_gov.sort_values(['favorite_count', 'retweet_count'], ascending=False).groupby('original_author').sum().reset_index()"
      ],
      "execution_count": null,
      "outputs": []
    },
    {
      "cell_type": "code",
      "metadata": {
        "id": "9I6xE8Q-CFr7",
        "colab_type": "code",
        "colab": {}
      },
      "source": [
        "#Then i took only the columns that were important in this popularity analysis which is retweet and like\n",
        "df_infl_popl = df_infl_popl[[\"original_author\", \"retweet_count\", \"favorite_count\"]]\n",
        "df_gov_popl = df_gov_popl[[\"original_author\", \"retweet_count\", \"favorite_count\"]]"
      ],
      "execution_count": null,
      "outputs": []
    },
    {
      "cell_type": "code",
      "metadata": {
        "colab_type": "code",
        "id": "8El3sD1i82hg",
        "colab": {}
      },
      "source": [
        "df_infl_popl= df_infl_popl.sort_values([\"favorite_count\", \"retweet_count\"], ascending=False).reset_index()\n",
        "df_gov_popl= df_gov_popl.sort_values([\"favorite_count\", \"retweet_count\"], ascending=False).reset_index()"
      ],
      "execution_count": null,
      "outputs": []
    },
    {
      "cell_type": "code",
      "metadata": {
        "id": "bAJud7iRw3Ya",
        "colab_type": "code",
        "colab": {}
      },
      "source": [
        "df_infl_popl[\"popularity\"] = df_infl_popl['retweet_count'] + df_infl_popl[\"favorite_count\"]\n",
        "df_gov_popl[\"popularity\"] = df_gov_popl['retweet_count'] + df_gov_popl[\"favorite_count\"]"
      ],
      "execution_count": null,
      "outputs": []
    },
    {
      "cell_type": "code",
      "metadata": {
        "id": "GPOfTuCiCFvQ",
        "colab_type": "code",
        "colab": {}
      },
      "source": [
        "#here i sorted the values by popularity \n",
        "df_infl_popl =df_infl_popl.sort_values([\"popularity\"], ascending=False).reset_index(drop=True)\n",
        "df_gov_popl =df_gov_popl.sort_values([\"popularity\"], ascending=False).reset_index(drop=True)"
      ],
      "execution_count": null,
      "outputs": []
    },
    {
      "cell_type": "code",
      "metadata": {
        "id": "TD_X9AQgCFij",
        "colab_type": "code",
        "colab": {}
      },
      "source": [
        "#here i did the ranking for both datasets \n",
        "df_infl_popl[\"Rank: By Popularity\"] = df_infl_popl['popularity'].rank(ascending=False)\n",
        "df_gov_popl[\"Rank: By Popularity\"] = df_gov_popl['popularity'].rank(ascending=False)"
      ],
      "execution_count": null,
      "outputs": []
    },
    {
      "cell_type": "code",
      "metadata": {
        "id": "1upWW28K4RSu",
        "colab_type": "code",
        "colab": {}
      },
      "source": [
        "df_gov_popl"
      ],
      "execution_count": null,
      "outputs": []
    },
    {
      "cell_type": "code",
      "metadata": {
        "id": "vqG3ASBgCFgI",
        "colab_type": "code",
        "colab": {}
      },
      "source": [
        "sns.set(style='ticks')\n",
        "plt.figure(figsize=(14,10))\n",
        "chart = sns.barplot(x=\"original_author\", y=\"popularity\", data=df_infl_popl[:15])\n",
        "plt.title(\"A Bar plot showing the top 15 African influencers by Popularity(Number of Retweets and Likes)\", fontsize = 12, fontweight= \"bold\" )\n",
        "plt.xlabel(\"Name\",fontsize = 10, fontweight= \"bold\")\n",
        "plt.ylabel(\"Popularity\", fontsize = 10, fontweight= \"bold\")\n",
        "plt.xticks(fontsize = 10, fontweight= \"bold\")\n",
        "plt.yticks(fontsize = 10, fontweight= \"bold\", fontfamily='sans-serif')\n",
        "plt.xticks(rotation=45)\n",
        "plt.ticklabel_format(style='plain', axis='y')\n",
        "plt.tight_layout()\n",
        "plt.savefig('/content/drive/My Drive/Colab Notebooks/african_infl_popl.jpeg');"
      ],
      "execution_count": null,
      "outputs": []
    },
    {
      "cell_type": "code",
      "metadata": {
        "id": "QfZljWsn-20x",
        "colab_type": "code",
        "colab": {}
      },
      "source": [
        "#plot without Trevor Noah\n",
        "sns.set(style='ticks')\n",
        "plt.figure(figsize=(14,10))\n",
        "chart = sns.barplot(x=\"original_author\", y=\"popularity\", data=df_infl_popl[1:15])\n",
        "plt.title(\"A Bar plot showing the top African influencers by Popularity(Number of Retweets and Likes)\", fontsize = 12, fontweight= \"bold\" )\n",
        "plt.xlabel(\"Name\",fontsize = 10, fontweight= \"bold\")\n",
        "plt.ylabel(\"Popularity\", fontsize = 10, fontweight= \"bold\")\n",
        "plt.xticks(fontsize = 10, fontweight= \"bold\")\n",
        "plt.yticks(fontsize = 10, fontweight= \"bold\", fontfamily='sans-serif')\n",
        "plt.xticks(rotation=45)\n",
        "plt.ticklabel_format(style='plain', axis='y')\n",
        "plt.tight_layout()\n",
        "plt.savefig('/content/drive/My Drive/Colab Notebooks/african_infl_popl2.jpeg');"
      ],
      "execution_count": null,
      "outputs": []
    },
    {
      "cell_type": "code",
      "metadata": {
        "id": "zNTEvAjDt8jd",
        "colab_type": "code",
        "colab": {}
      },
      "source": [
        "sns.set(style='ticks')\n",
        "plt.figure(figsize=(14,10))\n",
        "chart = sns.barplot(x=\"original_author\", y=\"popularity\", data=df_gov_popl[:15])\n",
        "plt.title(\"A Bar plot showing the top 15 African Leaders by Popularity(Number of Retweets and Likes)\", fontsize = 12, fontweight= \"bold\" )\n",
        "plt.xlabel(\"Name\", fontsize = 10, fontweight= \"bold\")\n",
        "plt.ylabel(\"Popularity\", fontsize = 10, fontweight= \"bold\")\n",
        "plt.xticks(fontsize = 10, fontweight= \"bold\")\n",
        "plt.yticks(fontsize = 10, fontweight= \"bold\", fontfamily='sans-serif')\n",
        "plt.xticks(rotation=45)\n",
        "plt.ticklabel_format(style='plain', axis='y')\n",
        "plt.tight_layout()\n",
        "plt.savefig('/content/drive/My Drive/Colab Notebooks/african_leader_popularity.jpeg');"
      ],
      "execution_count": null,
      "outputs": []
    },
    {
      "cell_type": "code",
      "metadata": {
        "id": "RedeEYTx0L98",
        "colab_type": "code",
        "colab": {}
      },
      "source": [
        "df_gov_popl.head()"
      ],
      "execution_count": null,
      "outputs": []
    },
    {
      "cell_type": "markdown",
      "metadata": {
        "id": "A7mbr6blwOBp",
        "colab_type": "text"
      },
      "source": [
        "### Extract the top mentions "
      ]
    },
    {
      "cell_type": "code",
      "metadata": {
        "id": "jrFxwFAzOfpV",
        "colab_type": "code",
        "colab": {}
      },
      "source": [
        "#i created a new dataframe for mentions\n",
        "df_mentions = df_infl['mention'].str.split(',', expand=True).rename(columns = lambda x: \"string\"+str(x+1))\n",
        "df2_mention = df_gov['mention'].str.split(',', expand=True).rename(columns = lambda x: \"string\"+str(x+1))"
      ],
      "execution_count": null,
      "outputs": []
    },
    {
      "cell_type": "code",
      "metadata": {
        "id": "uswCCqGiPX8x",
        "colab_type": "code",
        "colab": {}
      },
      "source": [
        "#i melted all the values to a column since they are the same thing\n",
        "new = pd.melt(df_mentions)\n",
        "new2 = pd.melt(df2_mention)\n",
        "#i dropped all null values\n",
        "new = new.dropna(subset=['value'])\n",
        "new2 = new2.dropna(subset=['value'])\n",
        "#here i grouped by the number of time a value appeared\n",
        "new = new.groupby('value').count().reset_index()\n",
        "new2 = new2.groupby('value').count().reset_index()"
      ],
      "execution_count": null,
      "outputs": []
    },
    {
      "cell_type": "code",
      "metadata": {
        "id": "-MfbVq7MUFn0",
        "colab_type": "code",
        "colab": {}
      },
      "source": [
        "#i did this to sort all the values in my data by number of mentions\n",
        "new.sort_values(by='variable', ascending=False, inplace=True)\n",
        "new2.sort_values(by='variable', ascending=False, inplace=True)"
      ],
      "execution_count": null,
      "outputs": []
    },
    {
      "cell_type": "code",
      "metadata": {
        "id": "J9GhRAg4UPha",
        "colab_type": "code",
        "colab": {}
      },
      "source": [
        "new.reset_index(drop=True, inplace=True)\n",
        "new2.reset_index(drop=True, inplace=True)"
      ],
      "execution_count": null,
      "outputs": []
    },
    {
      "cell_type": "code",
      "metadata": {
        "id": "OiyXcN8mne6W",
        "colab_type": "code",
        "colab": {}
      },
      "source": [
        "#i created a list of all the accounts in my original dataset\n",
        "names = list(df_new_infl['original_author'])\n",
        "names2 = list(df_new_gov['original_author'])\n",
        "#i used this to only get mentions of users in our influencers list which is the \n",
        "#scope of this project\n",
        "mentions_infl =new[new['value'].isin(names)]\n",
        "mentions_gov = new2[new2['value'].isin(names2)]\n",
        "#i had to reset the index because a lot of rows were dropped\n",
        "mentions_infl =mentions_infl.reset_index(drop=True)\n",
        "mentions_gov = mentions_gov.reset_index(drop=True)\n",
        "#i wanted the columns to have an understandable name \n",
        "mentions_infl=mentions_infl.rename(columns={'value' :'original_author',\"variable\": 'Count'})\n",
        "mentions_gov=mentions_gov.rename(columns={'value' :'original_author',\"variable\": 'Count'})"
      ],
      "execution_count": null,
      "outputs": []
    },
    {
      "cell_type": "code",
      "metadata": {
        "id": "vdVBr-qy3K_g",
        "colab_type": "code",
        "colab": {}
      },
      "source": [
        "mention_names =list(mentions_infl['original_author']) \n",
        "mention_names_gov = list(mentions_gov[\"original_author\"])"
      ],
      "execution_count": null,
      "outputs": []
    },
    {
      "cell_type": "code",
      "metadata": {
        "id": "BH2yXwrdCQ-U",
        "colab_type": "code",
        "colab": {}
      },
      "source": [
        "df2 = pd.DataFrame({\"original_author\": mention_names,\"Count\":[0] * len(mention_names)}) \n",
        "df3= pd.DataFrame({\"original_author\": mention_names_gov, \"Count\": [0] * len(mention_names_gov)})\n",
        "# for appending df2 at the end of df1 \n",
        "mentions_infl =mentions_infl.append(df2, ignore_index=True) \n",
        "mentions_gov= mentions_gov.append(df3, ignore_index=True)"
      ],
      "execution_count": null,
      "outputs": []
    },
    {
      "cell_type": "code",
      "metadata": {
        "id": "7ox5OdXfFj7p",
        "colab_type": "code",
        "colab": {}
      },
      "source": [
        "mentions_gov[\"name\"] = mentions_gov['original_author'].map(gov_name)\n",
        "mentions_infl['name'] = mentions_infl['original_author'].map(infl_name)\n",
        "column_names = [\"original_author\", \"name\", \"Count\"]\n",
        "\n",
        "mentions_gov = mentions_gov.reindex(columns=column_names)\n",
        "mentions_infl = mentions_infl.reindex(columns=column_names)"
      ],
      "execution_count": null,
      "outputs": []
    },
    {
      "cell_type": "code",
      "metadata": {
        "id": "gdjyS9ZjqH8F",
        "colab_type": "code",
        "colab": {}
      },
      "source": [
        "#here i did the ranking for both datasets \n",
        "mentions_infl[\"Rank: By Number of Mentions\"] = mentions_infl['Count'].rank(ascending=False)\n",
        "mentions_gov[\"Rank: By Number of Mentions\"] = mentions_gov['Count'].rank(ascending=False)"
      ],
      "execution_count": null,
      "outputs": []
    },
    {
      "cell_type": "code",
      "metadata": {
        "id": "ELR1X5-5PNhj",
        "colab_type": "code",
        "colab": {}
      },
      "source": [
        "mentions_gov.head()"
      ],
      "execution_count": null,
      "outputs": []
    },
    {
      "cell_type": "code",
      "metadata": {
        "id": "0qk2qo4zR6YY",
        "colab_type": "code",
        "colab": {}
      },
      "source": [
        "mentions_infl.head()"
      ],
      "execution_count": null,
      "outputs": []
    },
    {
      "cell_type": "code",
      "metadata": {
        "id": "J-clXKQRuOpy",
        "colab_type": "code",
        "colab": {}
      },
      "source": [
        "sns.set(style='ticks')\n",
        "plt.figure(figsize=(14,10))\n",
        "chart = sns.barplot(x=\"original_author\", y=\"Count\", data=mentions_infl[:10])\n",
        "plt.title(\"A Bar plot showing the top 15 African influencers by Mentions\", fontsize= 12, fontweight=\"bold\")\n",
        "plt.xlabel(\"Name\", fontsize= 10, fontweight=\"bold\")\n",
        "plt.ylabel(\"Popularity\",fontsize= 10, fontweight=\"bold\")\n",
        "plt.xticks(fontsize = 10, fontweight= \"bold\")\n",
        "plt.yticks(fontsize = 10, fontweight= \"bold\", fontfamily='sans-serif')\n",
        "plt.xticks(rotation=45)\n",
        "plt.tight_layout()\n",
        "plt.savefig('/content/drive/My Drive/Colab Notebooks/african_infl_mentions.png');"
      ],
      "execution_count": null,
      "outputs": []
    },
    {
      "cell_type": "code",
      "metadata": {
        "id": "q-AqxUDTuOwb",
        "colab_type": "code",
        "colab": {}
      },
      "source": [
        "sns.set(style='ticks')\n",
        "plt.figure(figsize=(14,10))\n",
        "chart = sns.barplot(x=\"original_author\", y=\"Count\", data=mentions_gov[:15])\n",
        "plt.title(\"A Bar plot showing the top 15 African Leader by Mentions\",  fontsize= 12, fontweight=\"bold\")\n",
        "plt.xlabel(\"Name\", fontsize= 10, fontweight=\"bold\")\n",
        "plt.ylabel(\"Popularity\")\n",
        "plt.xticks(fontsize = 10, fontweight= \"bold\")\n",
        "plt.yticks(fontsize = 10, fontweight= \"bold\", fontfamily='sans-serif')\n",
        "plt.xticks(rotation=45)\n",
        "plt.tight_layout()\n",
        "plt.savefig('/content/drive/My Drive/Colab Notebooks/african_gov_mentions.jpeg');"
      ],
      "execution_count": null,
      "outputs": []
    },
    {
      "cell_type": "markdown",
      "metadata": {
        "id": "wBmaAPNS6lm5",
        "colab_type": "text"
      },
      "source": [
        "### Extract the top 5 unique hashtags these influencers and government officials used in their top 10 retweets.  Group them based on their top 5 hashtags similarities. "
      ]
    },
    {
      "cell_type": "code",
      "metadata": {
        "id": "DjpGJ71FS3as",
        "colab_type": "code",
        "colab": {}
      },
      "source": [
        "#this would create a new column for each new string of hashtags in every tweet\n",
        "hashtags_infl = df_infl['hashtags'].str.split(',', expand=True).rename(columns = lambda x: \"hashtag\"+str(x+1))\n",
        "hashtags_gov = df_gov['hashtags'].str.split(',', expand=True).rename(columns = lambda x: \"hashtag\"+str(x+1))"
      ],
      "execution_count": null,
      "outputs": []
    },
    {
      "cell_type": "code",
      "metadata": {
        "id": "IHLHpCc2S3Q2",
        "colab_type": "code",
        "colab": {}
      },
      "source": [
        "hashtags_infl['original_author'] = df_infl['original_author']\n",
        "hashtags_gov['original_author'] = df_gov['original_author']"
      ],
      "execution_count": null,
      "outputs": []
    },
    {
      "cell_type": "code",
      "metadata": {
        "id": "tEPSRznzUkWc",
        "colab_type": "code",
        "colab": {}
      },
      "source": [
        "#this is to drop rows without hashtags they must at least two missing values\n",
        "hashtags_gov.dropna(thresh=2, inplace=True)\n",
        "hashtags_infl.dropna(thresh=2, inplace=True)"
      ],
      "execution_count": null,
      "outputs": []
    },
    {
      "cell_type": "code",
      "metadata": {
        "colab_type": "code",
        "id": "seZuRWBRVJAy",
        "colab": {}
      },
      "source": [
        "hashtags_gov =hashtags_gov.melt(id_vars='original_author')\n",
        "hashtags_infl=hashtags_infl.melt(id_vars='original_author')"
      ],
      "execution_count": null,
      "outputs": []
    },
    {
      "cell_type": "code",
      "metadata": {
        "id": "6d6yPWNgCFd4",
        "colab_type": "code",
        "colab": {}
      },
      "source": [
        "hashtags_gov.head()"
      ],
      "execution_count": null,
      "outputs": []
    },
    {
      "cell_type": "code",
      "metadata": {
        "colab_type": "code",
        "id": "LREPMaaaVJA4",
        "colab": {}
      },
      "source": [
        "# i dropped all the null values, those without hashtags\n",
        "gov = hashtags_gov.dropna()\n",
        "infl = hashtags_infl.dropna()\n",
        "#i made everything lower case\n",
        "infl['value'] = infl[\"value\"].str.lower()\n",
        "gov['value'] = gov['value'].str.lower()\n",
        "#i removed space from some hashtags\n",
        "infl['value'] = infl['value'].str.replace(\" \",\"\")\n",
        "gov['value'] = gov['value'].str.replace(\" \",\"\")"
      ],
      "execution_count": null,
      "outputs": []
    },
    {
      "cell_type": "code",
      "metadata": {
        "colab_type": "code",
        "id": "XhWl3OlrWywP",
        "colab": {}
      },
      "source": [
        "infl= infl.drop(columns='variable')\n",
        "gov = gov.drop(columns='variable')"
      ],
      "execution_count": null,
      "outputs": []
    },
    {
      "cell_type": "code",
      "metadata": {
        "id": "d4CZRdHMDN9-",
        "colab_type": "code",
        "colab": {}
      },
      "source": [
        "#this shows the number of time a particualar hashtag has been used \n",
        "hashtag_infl_count = infl['value'].value_counts().head(20)\n",
        "hashtag_gov_count = gov['value'].value_counts().head(20)"
      ],
      "execution_count": null,
      "outputs": []
    },
    {
      "cell_type": "code",
      "metadata": {
        "id": "UyOXcwpzHWpZ",
        "colab_type": "code",
        "colab": {}
      },
      "source": [
        "hashtag_infl_count=hashtag_infl_count.reset_index()\n",
        "hashtag_gov_count=hashtag_gov_count.reset_index()"
      ],
      "execution_count": null,
      "outputs": []
    },
    {
      "cell_type": "code",
      "metadata": {
        "id": "y28814xlHfcZ",
        "colab_type": "code",
        "colab": {}
      },
      "source": [
        "hashtag_infl_count=hashtag_infl_count.rename(columns={\"index\": \"hashtag\", \"value\": 'count' })\n",
        "hashtag_gov_count=hashtag_gov_count.rename(columns={\"index\": \"hashtag\", \"value\": 'count' })"
      ],
      "execution_count": null,
      "outputs": []
    },
    {
      "cell_type": "code",
      "metadata": {
        "id": "--t0wMviHLPA",
        "colab_type": "code",
        "colab": {
          "base_uri": "https://localhost:8080/",
          "height": 232
        },
        "outputId": "a71014bf-efb1-4541-f61a-6bb392f8e991"
      },
      "source": [
        "sns.set(style='ticks')\n",
        "plt.figure(figsize=(14,10))\n",
        "chart = sns.barplot(x=\"hashtag\", y=\"count\", data=hashtag_infl_count)\n",
        "plt.title(\"A Bar plot showing the top 20 Hashtags among Influencers\", fontsize = 12, fontweight= \"bold\" )\n",
        "plt.xlabel(\"Hashtag\", fontsize = 10, fontweight= \"bold\")\n",
        "plt.ylabel(\"Count\", fontsize = 10, fontweight= \"bold\")\n",
        "plt.xticks(fontsize = 10, fontweight= \"bold\")\n",
        "plt.yticks(fontsize = 10, fontweight= \"bold\", fontfamily='sans-serif')\n",
        "plt.xticks(rotation=45)\n",
        "plt.ticklabel_format(style='plain', axis='y')\n",
        "plt.savefig('/content/drive/My Drive/Colab Notebooks/african_infl_hashtag.jpeg');"
      ],
      "execution_count": 1,
      "outputs": [
        {
          "output_type": "error",
          "ename": "NameError",
          "evalue": "ignored",
          "traceback": [
            "\u001b[0;31m---------------------------------------------------------------------------\u001b[0m",
            "\u001b[0;31mNameError\u001b[0m                                 Traceback (most recent call last)",
            "\u001b[0;32m<ipython-input-1-7070864f353f>\u001b[0m in \u001b[0;36m<module>\u001b[0;34m()\u001b[0m\n\u001b[0;32m----> 1\u001b[0;31m \u001b[0msns\u001b[0m\u001b[0;34m.\u001b[0m\u001b[0mset\u001b[0m\u001b[0;34m(\u001b[0m\u001b[0mstyle\u001b[0m\u001b[0;34m=\u001b[0m\u001b[0;34m'ticks'\u001b[0m\u001b[0;34m)\u001b[0m\u001b[0;34m\u001b[0m\u001b[0;34m\u001b[0m\u001b[0m\n\u001b[0m\u001b[1;32m      2\u001b[0m \u001b[0mplt\u001b[0m\u001b[0;34m.\u001b[0m\u001b[0mfigure\u001b[0m\u001b[0;34m(\u001b[0m\u001b[0mfigsize\u001b[0m\u001b[0;34m=\u001b[0m\u001b[0;34m(\u001b[0m\u001b[0;36m14\u001b[0m\u001b[0;34m,\u001b[0m\u001b[0;36m10\u001b[0m\u001b[0;34m)\u001b[0m\u001b[0;34m)\u001b[0m\u001b[0;34m\u001b[0m\u001b[0;34m\u001b[0m\u001b[0m\n\u001b[1;32m      3\u001b[0m \u001b[0mchart\u001b[0m \u001b[0;34m=\u001b[0m \u001b[0msns\u001b[0m\u001b[0;34m.\u001b[0m\u001b[0mbarplot\u001b[0m\u001b[0;34m(\u001b[0m\u001b[0mx\u001b[0m\u001b[0;34m=\u001b[0m\u001b[0;34m\"hashtag\"\u001b[0m\u001b[0;34m,\u001b[0m \u001b[0my\u001b[0m\u001b[0;34m=\u001b[0m\u001b[0;34m\"count\"\u001b[0m\u001b[0;34m,\u001b[0m \u001b[0mdata\u001b[0m\u001b[0;34m=\u001b[0m\u001b[0mhashtag_infl_count\u001b[0m\u001b[0;34m)\u001b[0m\u001b[0;34m\u001b[0m\u001b[0;34m\u001b[0m\u001b[0m\n\u001b[1;32m      4\u001b[0m \u001b[0mplt\u001b[0m\u001b[0;34m.\u001b[0m\u001b[0mtitle\u001b[0m\u001b[0;34m(\u001b[0m\u001b[0;34m\"A Bar plot showing the top 20 Hashtags among Influencers\"\u001b[0m\u001b[0;34m,\u001b[0m \u001b[0mfontsize\u001b[0m \u001b[0;34m=\u001b[0m \u001b[0;36m12\u001b[0m\u001b[0;34m,\u001b[0m \u001b[0mfontweight\u001b[0m\u001b[0;34m=\u001b[0m \u001b[0;34m\"bold\"\u001b[0m \u001b[0;34m)\u001b[0m\u001b[0;34m\u001b[0m\u001b[0;34m\u001b[0m\u001b[0m\n\u001b[1;32m      5\u001b[0m \u001b[0mplt\u001b[0m\u001b[0;34m.\u001b[0m\u001b[0mxlabel\u001b[0m\u001b[0;34m(\u001b[0m\u001b[0;34m\"Hashtag\"\u001b[0m\u001b[0;34m,\u001b[0m \u001b[0mfontsize\u001b[0m \u001b[0;34m=\u001b[0m \u001b[0;36m10\u001b[0m\u001b[0;34m,\u001b[0m \u001b[0mfontweight\u001b[0m\u001b[0;34m=\u001b[0m \u001b[0;34m\"bold\"\u001b[0m\u001b[0;34m)\u001b[0m\u001b[0;34m\u001b[0m\u001b[0;34m\u001b[0m\u001b[0m\n",
            "\u001b[0;31mNameError\u001b[0m: name 'sns' is not defined"
          ]
        }
      ]
    },
    {
      "cell_type": "code",
      "metadata": {
        "id": "Tadd8lKlGvEV",
        "colab_type": "code",
        "colab": {}
      },
      "source": [
        "sns.set(style='ticks')\n",
        "plt.figure(figsize=(14,10))\n",
        "chart = sns.barplot(x=\"hashtag\", y=\"count\", data=hashtag_gov_count)\n",
        "plt.title(\"A Bar plot showing the top 20 Hashtags among Government Official\", fontsize = 12, fontweight= \"bold\" )\n",
        "plt.xlabel(\"Hashtag\", fontsize = 10, fontweight= \"bold\")\n",
        "plt.ylabel(\"Count\", fontsize = 10, fontweight= \"bold\")\n",
        "plt.xticks(fontsize = 10, fontweight= \"bold\")\n",
        "plt.yticks(fontsize = 10, fontweight= \"bold\", fontfamily='sans-serif')\n",
        "plt.xticks(rotation=45)\n",
        "plt.ticklabel_format(style='plain', axis='y')"
      ],
      "execution_count": null,
      "outputs": []
    },
    {
      "cell_type": "code",
      "metadata": {
        "colab_type": "code",
        "id": "7cPza0auWywY",
        "colab": {}
      },
      "source": [
        "see =infl.groupby([\"value\", 'original_author']).count()"
      ],
      "execution_count": null,
      "outputs": []
    },
    {
      "cell_type": "code",
      "metadata": {
        "id": "J4o4EU08Dw54",
        "colab_type": "code",
        "colab": {}
      },
      "source": [
        "see"
      ],
      "execution_count": null,
      "outputs": []
    },
    {
      "cell_type": "code",
      "metadata": {
        "id": "g_OOxbGng8WG",
        "colab_type": "code",
        "colab": {}
      },
      "source": [
        "for hashtas in see['value']:\n",
        "  if hashtas== covi19:\n",
        "    print()"
      ],
      "execution_count": null,
      "outputs": []
    },
    {
      "cell_type": "code",
      "metadata": {
        "colab_type": "code",
        "id": "1SRi5jxXWywh",
        "colab": {}
      },
      "source": [
        "#i grouped then and measure by the mean of the hashtags\n",
        "hashtags_grouped = hashtags_onehot.groupby('original_author').mean().reset_index()\n",
        "hashtags_gov_grouped = hashtags_gov_onehot.groupby('original_author').mean().reset_index()"
      ],
      "execution_count": null,
      "outputs": []
    },
    {
      "cell_type": "code",
      "metadata": {
        "id": "mxfhG--CmG4z",
        "colab_type": "code",
        "colab": {}
      },
      "source": [
        "hashtags_grouped.replace(0, np.nan, inplace=True)\n",
        "hashtags_gov_grouped.replace(0, np.nan, inplace=True)"
      ],
      "execution_count": null,
      "outputs": []
    },
    {
      "cell_type": "code",
      "metadata": {
        "colab_type": "code",
        "id": "WbRjhkCwWywk",
        "colab": {}
      },
      "source": [
        "for hashtag in hashtags_grouped['original_author']:\n",
        "    print(\"----\"+hashtag+\"----\")\n",
        "    temp = hashtags_grouped[hashtags_grouped['original_author'] == hashtag].T.reset_index()\n",
        "    temp.columns = ['hashtag','freq']\n",
        "    temp = temp.iloc[1:]\n",
        "    temp['freq'] = temp['freq'].astype(float)\n",
        "    temp = temp.round({'freq': 2})\n",
        "    print(temp.sort_values('freq', ascending=False).reset_index(drop=True).head(5))\n",
        "    print('\\n')"
      ],
      "execution_count": null,
      "outputs": []
    },
    {
      "cell_type": "code",
      "metadata": {
        "id": "J2NN6j67dyFN",
        "colab_type": "code",
        "colab": {}
      },
      "source": [
        ""
      ],
      "execution_count": null,
      "outputs": []
    },
    {
      "cell_type": "code",
      "metadata": {
        "id": "kOtiTrJFdajF",
        "colab_type": "code",
        "colab": {}
      },
      "source": [
        "for hashtag in hashtags_gov_grouped['original_author']:\n",
        "    print(\"----\"+hashtag+\"----\")\n",
        "    temp = hashtags_gov_grouped[hashtags_gov_grouped['original_author'] == hashtag].T.reset_index()\n",
        "    temp.columns = ['hashtag','freq']\n",
        "    temp = temp.iloc[1:]\n",
        "    temp['freq'] = temp['freq'].astype(float)\n",
        "    temp = temp.round({'freq': 2})\n",
        "    print(temp.sort_values('freq', ascending=False).reset_index(drop=True).head(7))\n",
        "    print('\\n')"
      ],
      "execution_count": null,
      "outputs": []
    }
  ]
}