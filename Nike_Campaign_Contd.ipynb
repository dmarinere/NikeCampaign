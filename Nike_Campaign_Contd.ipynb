{
  "nbformat": 4,
  "nbformat_minor": 0,
  "metadata": {
    "colab": {
      "name": "Nike_Campaign_Contd",
      "provenance": [],
      "collapsed_sections": [],
      "mount_file_id": "14BaN25Ftq_qoQ0LUQOA7IgTj7iWrOCle",
      "authorship_tag": "ABX9TyP0hwf47vRPgf6mvoXT1oWk",
      "include_colab_link": true
    },
    "kernelspec": {
      "name": "python3",
      "display_name": "Python 3"
    }
  },
  "cells": [
    {
      "cell_type": "markdown",
      "metadata": {
        "id": "view-in-github",
        "colab_type": "text"
      },
      "source": [
        "<a href=\"https://colab.research.google.com/github/dmarinere/NikeCampaign/blob/master/Nike_Campaign_Contd.ipynb\" target=\"_parent\"><img src=\"https://colab.research.google.com/assets/colab-badge.svg\" alt=\"Open In Colab\"/></a>"
      ]
    },
    {
      "cell_type": "markdown",
      "metadata": {
        "id": "mhwLmU5QSdGM",
        "colab_type": "text"
      },
      "source": [
        ""
      ]
    },
    {
      "cell_type": "markdown",
      "metadata": {
        "id": "0Nhk6H9CSc86",
        "colab_type": "text"
      },
      "source": [
        ""
      ]
    },
    {
      "cell_type": "code",
      "metadata": {
        "id": "6No2AnpSLQi_",
        "colab_type": "code",
        "colab": {
          "base_uri": "https://localhost:8080/",
          "height": 71
        },
        "outputId": "a9645ff9-27dc-401e-a1a6-d3accb46d94a"
      },
      "source": [
        "import pandas as pd\n",
        "import matplotlib.pyplot as plt\n",
        "import seaborn as sns\n",
        "import numpy as np\n",
        "from sklearn.cluster import KMeans\n"
      ],
      "execution_count": 2,
      "outputs": [
        {
          "output_type": "stream",
          "text": [
            "/usr/local/lib/python3.6/dist-packages/statsmodels/tools/_testing.py:19: FutureWarning: pandas.util.testing is deprecated. Use the functions in the public API at pandas.testing instead.\n",
            "  import pandas.util.testing as tm\n"
          ],
          "name": "stderr"
        }
      ]
    },
    {
      "cell_type": "code",
      "metadata": {
        "id": "Jaew2ja2Cbw2",
        "colab_type": "code",
        "colab": {}
      },
      "source": [
        "df_infl = pd.read_csv(\"/content/drive/My Drive/Colab Notebooks/all_influencers_tweets.csv\")\n",
        "df_gov = pd.read_csv(\"/content/drive/My Drive/Colab Notebooks/all_government_tweets.csv\")"
      ],
      "execution_count": 3,
      "outputs": []
    },
    {
      "cell_type": "code",
      "metadata": {
        "id": "zNJ_TavnNDz0",
        "colab_type": "code",
        "colab": {}
      },
      "source": [
        "#i would start would creating a new dataframe that has no duplicate author so i could get some data\n",
        "df_new_infl= df_infl.drop_duplicates(subset =\"original_author\",)\n",
        "df_new_gov = df_gov.drop_duplicates(subset =\"original_author\")\n",
        "df_new_gov.reset_index(drop=True, inplace=True)\n",
        "df_new_infl.reset_index(drop=True, inplace=True)"
      ],
      "execution_count": 4,
      "outputs": []
    },
    {
      "cell_type": "code",
      "metadata": {
        "id": "OnIk7drSRZYg",
        "colab_type": "code",
        "colab": {}
      },
      "source": [
        "#i started with using the assumption that we made about less than 5 tweets\n",
        "df_infl = df_infl[df_infl['original_author'].map(df_infl['original_author'].value_counts()) > 5]\n",
        "df_gov = df_gov[df_gov['original_author'].map(df_gov['original_author'].value_counts()) > 5]"
      ],
      "execution_count": 392,
      "outputs": []
    },
    {
      "cell_type": "code",
      "metadata": {
        "id": "nXjKoYsKywPX",
        "colab_type": "code",
        "colab": {}
      },
      "source": [
        "# we would drop rows that the followers and following are missing and also original author \n",
        "df_new_infl = df_new_infl.dropna(how='any', subset=['followers', 'following', 'original_author'])\n",
        "df_new_infl = df_new_infl.dropna(how='any', subset=['followers', 'following', 'original_author'])"
      ],
      "execution_count": 396,
      "outputs": []
    },
    {
      "cell_type": "code",
      "metadata": {
        "id": "X6kVBQQ2zZmo",
        "colab_type": "code",
        "colab": {}
      },
      "source": [
        "#i converted some columns from object to int so we can work with them easily\n",
        "df_new_infl = df_new_infl.astype({'favorite_count': 'int64', 'retweet_count': 'int64','following': 'int64' })\n",
        "df_infl = df_infl.astype({'favorite_count': 'int64', 'retweet_count': 'int64','following': 'int64' })\n"
      ],
      "execution_count": 397,
      "outputs": []
    },
    {
      "cell_type": "code",
      "metadata": {
        "id": "cbyHFIRFO8FQ",
        "colab_type": "code",
        "colab": {}
      },
      "source": [
        "# i would start with getting the reach score for all the influencers and leaders \n",
        "df_new_gov['reach'] = df_new_gov.apply(lambda x: x['followers'] - x['following'], axis=1)\n",
        "df_new_infl['reach'] = df_new_infl.apply(lambda x: x['followers'] - x['following'], axis=1)"
      ],
      "execution_count": 398,
      "outputs": []
    },
    {
      "cell_type": "code",
      "metadata": {
        "id": "V3lpMtWj1DhF",
        "colab_type": "code",
        "colab": {}
      },
      "source": [
        "\n",
        "#we have been able to succesfully get the reach of all the influencer i would go ahead to sort each of them by reach\n",
        "df_new_infl =df_new_infl.sort_values(by='reach', ascending=False)\n",
        "df_new_gov=df_new_gov.sort_values(by=\"reach\", ascending=False)\n",
        "df_new_gov.reset_index(drop=True, inplace=True)\n",
        "df_new_infl.reset_index(drop=True, inplace=True)"
      ],
      "execution_count": 399,
      "outputs": []
    },
    {
      "cell_type": "code",
      "metadata": {
        "id": "yTTSLs9VK1TW",
        "colab_type": "code",
        "colab": {}
      },
      "source": [
        "gov_name = {}\n",
        "for name in range(len(df_gov_rank)):\n",
        "     gov_name[df_gov_rank['original_author'][name]]= df_gov_rank['name'][name]"
      ],
      "execution_count": 400,
      "outputs": []
    },
    {
      "cell_type": "code",
      "metadata": {
        "id": "AYiLW8G2Lnr_",
        "colab_type": "code",
        "colab": {}
      },
      "source": [
        "infl_name = {}\n",
        "for name in range(len(df_infl_rank)):\n",
        "     infl_name[df_infl_rank['original_author'][name]]= df_infl_rank['name'][name]"
      ],
      "execution_count": 401,
      "outputs": []
    },
    {
      "cell_type": "code",
      "metadata": {
        "id": "1oFvgy1Xk6QJ",
        "colab_type": "code",
        "colab": {}
      },
      "source": [
        "df_gov_rank = df_new_gov[['original_author','name','followers', 'following','reach']]\n",
        "df_infl_rank = df_new_infl[['original_author','name','followers', 'following','reach']]"
      ],
      "execution_count": 402,
      "outputs": []
    },
    {
      "cell_type": "code",
      "metadata": {
        "id": "OSx0FJ7-lt9O",
        "colab_type": "code",
        "colab": {
          "base_uri": "https://localhost:8080/",
          "height": 221
        },
        "outputId": "88f77199-8c45-4418-dae0-3b5a991b9d21"
      },
      "source": [
        "#rank them by reach\n",
        "df_gov_rank[\"Rank: By Reach\"] =df_gov_rank['reach'].rank(ascending=False)\n",
        "df_infl_rank[\"Rank: By Reach\"] = df_infl_rank['reach'].rank(ascending=False)"
      ],
      "execution_count": 403,
      "outputs": [
        {
          "output_type": "stream",
          "text": [
            "/usr/local/lib/python3.6/dist-packages/ipykernel_launcher.py:2: SettingWithCopyWarning: \n",
            "A value is trying to be set on a copy of a slice from a DataFrame.\n",
            "Try using .loc[row_indexer,col_indexer] = value instead\n",
            "\n",
            "See the caveats in the documentation: https://pandas.pydata.org/pandas-docs/stable/user_guide/indexing.html#returning-a-view-versus-a-copy\n",
            "  \n",
            "/usr/local/lib/python3.6/dist-packages/ipykernel_launcher.py:3: SettingWithCopyWarning: \n",
            "A value is trying to be set on a copy of a slice from a DataFrame.\n",
            "Try using .loc[row_indexer,col_indexer] = value instead\n",
            "\n",
            "See the caveats in the documentation: https://pandas.pydata.org/pandas-docs/stable/user_guide/indexing.html#returning-a-view-versus-a-copy\n",
            "  This is separate from the ipykernel package so we can avoid doing imports until\n"
          ],
          "name": "stderr"
        }
      ]
    },
    {
      "cell_type": "code",
      "metadata": {
        "id": "Lz_TLMvRdbNq",
        "colab_type": "code",
        "colab": {
          "base_uri": "https://localhost:8080/",
          "height": 204
        },
        "outputId": "14c9823d-8d2b-491a-ffff-9c6becf4bfc2"
      },
      "source": [
        "df_gov_rank.head()"
      ],
      "execution_count": 404,
      "outputs": [
        {
          "output_type": "execute_result",
          "data": {
            "text/html": [
              "<div>\n",
              "<style scoped>\n",
              "    .dataframe tbody tr th:only-of-type {\n",
              "        vertical-align: middle;\n",
              "    }\n",
              "\n",
              "    .dataframe tbody tr th {\n",
              "        vertical-align: top;\n",
              "    }\n",
              "\n",
              "    .dataframe thead th {\n",
              "        text-align: right;\n",
              "    }\n",
              "</style>\n",
              "<table border=\"1\" class=\"dataframe\">\n",
              "  <thead>\n",
              "    <tr style=\"text-align: right;\">\n",
              "      <th></th>\n",
              "      <th>original_author</th>\n",
              "      <th>name</th>\n",
              "      <th>followers</th>\n",
              "      <th>following</th>\n",
              "      <th>reach</th>\n",
              "      <th>Rank: By Reach</th>\n",
              "    </tr>\n",
              "  </thead>\n",
              "  <tbody>\n",
              "    <tr>\n",
              "      <th>0</th>\n",
              "      <td>MBuhari</td>\n",
              "      <td>Muhammadu Buhari</td>\n",
              "      <td>3268751</td>\n",
              "      <td>26</td>\n",
              "      <td>3268725</td>\n",
              "      <td>1.0</td>\n",
              "    </tr>\n",
              "    <tr>\n",
              "      <th>1</th>\n",
              "      <td>PaulKagame</td>\n",
              "      <td>Paul Kagame</td>\n",
              "      <td>1981691</td>\n",
              "      <td>181</td>\n",
              "      <td>1981510</td>\n",
              "      <td>2.0</td>\n",
              "    </tr>\n",
              "    <tr>\n",
              "      <th>2</th>\n",
              "      <td>KagutaMuseveni</td>\n",
              "      <td>Yoweri K Museveni</td>\n",
              "      <td>1810417</td>\n",
              "      <td>28</td>\n",
              "      <td>1810389</td>\n",
              "      <td>3.0</td>\n",
              "    </tr>\n",
              "    <tr>\n",
              "      <th>3</th>\n",
              "      <td>PresidencyZA</td>\n",
              "      <td>Presidency | South Africa 🇿🇦</td>\n",
              "      <td>1597615</td>\n",
              "      <td>14</td>\n",
              "      <td>1597601</td>\n",
              "      <td>4.0</td>\n",
              "    </tr>\n",
              "    <tr>\n",
              "      <th>4</th>\n",
              "      <td>NAkufoAddo</td>\n",
              "      <td>Nana Akufo-Addo</td>\n",
              "      <td>1505263</td>\n",
              "      <td>352</td>\n",
              "      <td>1504911</td>\n",
              "      <td>5.0</td>\n",
              "    </tr>\n",
              "  </tbody>\n",
              "</table>\n",
              "</div>"
            ],
            "text/plain": [
              "  original_author                          name  ...    reach  Rank: By Reach\n",
              "0         MBuhari              Muhammadu Buhari  ...  3268725             1.0\n",
              "1      PaulKagame                   Paul Kagame  ...  1981510             2.0\n",
              "2  KagutaMuseveni             Yoweri K Museveni  ...  1810389             3.0\n",
              "3    PresidencyZA  Presidency | South Africa 🇿🇦  ...  1597601             4.0\n",
              "4      NAkufoAddo               Nana Akufo-Addo  ...  1504911             5.0\n",
              "\n",
              "[5 rows x 6 columns]"
            ]
          },
          "metadata": {
            "tags": []
          },
          "execution_count": 404
        }
      ]
    },
    {
      "cell_type": "code",
      "metadata": {
        "id": "no7URBlcdbIz",
        "colab_type": "code",
        "colab": {
          "base_uri": "https://localhost:8080/",
          "height": 204
        },
        "outputId": "bf252ba2-d072-4281-9ceb-83dbae02c019"
      },
      "source": [
        "df_infl_rank.head()"
      ],
      "execution_count": 405,
      "outputs": [
        {
          "output_type": "execute_result",
          "data": {
            "text/html": [
              "<div>\n",
              "<style scoped>\n",
              "    .dataframe tbody tr th:only-of-type {\n",
              "        vertical-align: middle;\n",
              "    }\n",
              "\n",
              "    .dataframe tbody tr th {\n",
              "        vertical-align: top;\n",
              "    }\n",
              "\n",
              "    .dataframe thead th {\n",
              "        text-align: right;\n",
              "    }\n",
              "</style>\n",
              "<table border=\"1\" class=\"dataframe\">\n",
              "  <thead>\n",
              "    <tr style=\"text-align: right;\">\n",
              "      <th></th>\n",
              "      <th>original_author</th>\n",
              "      <th>name</th>\n",
              "      <th>followers</th>\n",
              "      <th>following</th>\n",
              "      <th>reach</th>\n",
              "      <th>Rank: By Reach</th>\n",
              "    </tr>\n",
              "  </thead>\n",
              "  <tbody>\n",
              "    <tr>\n",
              "      <th>0</th>\n",
              "      <td>Trevornoah</td>\n",
              "      <td>Trevor Noah</td>\n",
              "      <td>10802767.0</td>\n",
              "      <td>325</td>\n",
              "      <td>10802442.0</td>\n",
              "      <td>1.0</td>\n",
              "    </tr>\n",
              "    <tr>\n",
              "      <th>1</th>\n",
              "      <td>News24</td>\n",
              "      <td>News24</td>\n",
              "      <td>3575205.0</td>\n",
              "      <td>632</td>\n",
              "      <td>3574573.0</td>\n",
              "      <td>2.0</td>\n",
              "    </tr>\n",
              "    <tr>\n",
              "      <th>2</th>\n",
              "      <td>Julius_S_Malema</td>\n",
              "      <td>Julius Sello Malema</td>\n",
              "      <td>3125926.0</td>\n",
              "      <td>652</td>\n",
              "      <td>3125274.0</td>\n",
              "      <td>3.0</td>\n",
              "    </tr>\n",
              "    <tr>\n",
              "      <th>3</th>\n",
              "      <td>GarethCliff</td>\n",
              "      <td>Gareth Cliff</td>\n",
              "      <td>1974502.0</td>\n",
              "      <td>356</td>\n",
              "      <td>1974146.0</td>\n",
              "      <td>4.0</td>\n",
              "    </tr>\n",
              "    <tr>\n",
              "      <th>4</th>\n",
              "      <td>euphonik</td>\n",
              "      <td>Euphonik™♛</td>\n",
              "      <td>1754199.0</td>\n",
              "      <td>65</td>\n",
              "      <td>1754134.0</td>\n",
              "      <td>5.0</td>\n",
              "    </tr>\n",
              "  </tbody>\n",
              "</table>\n",
              "</div>"
            ],
            "text/plain": [
              "   original_author                 name  ...       reach  Rank: By Reach\n",
              "0       Trevornoah          Trevor Noah  ...  10802442.0             1.0\n",
              "1           News24               News24  ...   3574573.0             2.0\n",
              "2  Julius_S_Malema  Julius Sello Malema  ...   3125274.0             3.0\n",
              "3      GarethCliff         Gareth Cliff  ...   1974146.0             4.0\n",
              "4         euphonik           Euphonik™♛  ...   1754134.0             5.0\n",
              "\n",
              "[5 rows x 6 columns]"
            ]
          },
          "metadata": {
            "tags": []
          },
          "execution_count": 405
        }
      ]
    },
    {
      "cell_type": "markdown",
      "metadata": {
        "id": "cAUhCooN4c5n",
        "colab_type": "text"
      },
      "source": [
        "### Cleaning and recovering the rank by number of retweets and likes"
      ]
    },
    {
      "cell_type": "code",
      "metadata": {
        "id": "boSxKDqeC9CC",
        "colab_type": "code",
        "colab": {}
      },
      "source": [
        "#since i didn't get all the tweets for each of them,  i focused on the sum of the top 100 tweets in the dataset "
      ],
      "execution_count": 406,
      "outputs": []
    },
    {
      "cell_type": "code",
      "metadata": {
        "id": "AOrnC8Sz256c",
        "colab_type": "code",
        "colab": {}
      },
      "source": [
        "#then i grouped tweet by author and sort them, then took only the top 100 retweets and like for each\n",
        "#i sorted first by like because it is easier to get likes and those two work hand in hand\n",
        "df_infl_popl = df_infl.sort_values(['favorite_count', 'retweet_count'], ascending=False).groupby('name').head(100)\n",
        "df_gov_popl = df_gov.sort_values(['favorite_count', 'retweet_count'], ascending=False).groupby('name').head(100)"
      ],
      "execution_count": 409,
      "outputs": []
    },
    {
      "cell_type": "code",
      "metadata": {
        "id": "9I6xE8Q-CFr7",
        "colab_type": "code",
        "colab": {}
      },
      "source": [
        "#Then i took only the columns that were important in this popularity analysis which is retweet and like\n",
        "df_infl_popl = df_infl_popl[[\"name\", \"retweet_count\", \"favorite_count\"]]\n",
        "df_gov_popl = df_gov_popl[[\"name\", \"retweet_count\", \"favorite_count\"]]"
      ],
      "execution_count": 410,
      "outputs": []
    },
    {
      "cell_type": "code",
      "metadata": {
        "colab_type": "code",
        "id": "HEmRfnSL82hT",
        "colab": {}
      },
      "source": [
        "df_infl_popl = df_infl_popl.groupby(['name']).sum()\n",
        "df_gov_popl = df_gov_popl.groupby(['name']).sum()\n"
      ],
      "execution_count": 411,
      "outputs": []
    },
    {
      "cell_type": "code",
      "metadata": {
        "colab_type": "code",
        "id": "8El3sD1i82hg",
        "colab": {}
      },
      "source": [
        "df_infl_popl= df_infl_popl.sort_values([\"favorite_count\", \"retweet_count\"], ascending=False).reset_index()\n",
        "df_gov_popl= df_gov_popl.sort_values([\"favorite_count\", \"retweet_count\"], ascending=False).reset_index()"
      ],
      "execution_count": 412,
      "outputs": []
    },
    {
      "cell_type": "code",
      "metadata": {
        "id": "bAJud7iRw3Ya",
        "colab_type": "code",
        "colab": {}
      },
      "source": [
        "df_infl_popl[\"popularity\"] = df_infl_popl['retweet_count'] + df_infl_popl[\"favorite_count\"]\n",
        "df_gov_popl[\"popularity\"] = df_gov_popl['retweet_count'] + df_gov_popl[\"favorite_count\"]"
      ],
      "execution_count": 413,
      "outputs": []
    },
    {
      "cell_type": "code",
      "metadata": {
        "id": "GPOfTuCiCFvQ",
        "colab_type": "code",
        "colab": {}
      },
      "source": [
        "#here i sorted the values by popularity \n",
        "df_infl_popl =df_infl_popl.sort_values([\"popularity\"], ascending=False).reset_index(drop=True)\n",
        "df_gov_popl =df_gov_popl.sort_values([\"popularity\"], ascending=False).reset_index(drop=True)"
      ],
      "execution_count": 414,
      "outputs": []
    },
    {
      "cell_type": "code",
      "metadata": {
        "id": "TD_X9AQgCFij",
        "colab_type": "code",
        "colab": {}
      },
      "source": [
        "#here i did the ranking for both datasets \n",
        "df_infl_popl[\"Rank: By Popularity\"] = df_infl_popl['popularity'].rank(ascending=False)\n",
        "df_gov_popl[\"Rank: By Popularity\"] = df_gov_popl['popularity'].rank(ascending=False)"
      ],
      "execution_count": 415,
      "outputs": []
    },
    {
      "cell_type": "code",
      "metadata": {
        "id": "vqG3ASBgCFgI",
        "colab_type": "code",
        "colab": {
          "base_uri": "https://localhost:8080/",
          "height": 204
        },
        "outputId": "98c498ee-b9d9-4015-d309-c399a66b1379"
      },
      "source": [
        "df_infl_popl.head()"
      ],
      "execution_count": 416,
      "outputs": [
        {
          "output_type": "execute_result",
          "data": {
            "text/html": [
              "<div>\n",
              "<style scoped>\n",
              "    .dataframe tbody tr th:only-of-type {\n",
              "        vertical-align: middle;\n",
              "    }\n",
              "\n",
              "    .dataframe tbody tr th {\n",
              "        vertical-align: top;\n",
              "    }\n",
              "\n",
              "    .dataframe thead th {\n",
              "        text-align: right;\n",
              "    }\n",
              "</style>\n",
              "<table border=\"1\" class=\"dataframe\">\n",
              "  <thead>\n",
              "    <tr style=\"text-align: right;\">\n",
              "      <th></th>\n",
              "      <th>name</th>\n",
              "      <th>retweet_count</th>\n",
              "      <th>favorite_count</th>\n",
              "      <th>popularity</th>\n",
              "      <th>Rank: By Popularity</th>\n",
              "    </tr>\n",
              "  </thead>\n",
              "  <tbody>\n",
              "    <tr>\n",
              "      <th>0</th>\n",
              "      <td>Trevor Noah</td>\n",
              "      <td>526304</td>\n",
              "      <td>2945924</td>\n",
              "      <td>3472228</td>\n",
              "      <td>1.0</td>\n",
              "    </tr>\n",
              "    <tr>\n",
              "      <th>1</th>\n",
              "      <td>Mbuyiseni Ndlozi</td>\n",
              "      <td>42506</td>\n",
              "      <td>247513</td>\n",
              "      <td>290019</td>\n",
              "      <td>2.0</td>\n",
              "    </tr>\n",
              "    <tr>\n",
              "      <th>2</th>\n",
              "      <td>Euphonik™♛</td>\n",
              "      <td>23365</td>\n",
              "      <td>154250</td>\n",
              "      <td>177615</td>\n",
              "      <td>3.0</td>\n",
              "    </tr>\n",
              "    <tr>\n",
              "      <th>3</th>\n",
              "      <td>Ulrich Janse van Vuuren</td>\n",
              "      <td>17456</td>\n",
              "      <td>123550</td>\n",
              "      <td>141006</td>\n",
              "      <td>4.0</td>\n",
              "    </tr>\n",
              "    <tr>\n",
              "      <th>4</th>\n",
              "      <td>Helen Zille</td>\n",
              "      <td>15094</td>\n",
              "      <td>64536</td>\n",
              "      <td>79630</td>\n",
              "      <td>5.0</td>\n",
              "    </tr>\n",
              "  </tbody>\n",
              "</table>\n",
              "</div>"
            ],
            "text/plain": [
              "                      name  retweet_count  ...  popularity  Rank: By Popularity\n",
              "0              Trevor Noah         526304  ...     3472228                  1.0\n",
              "1         Mbuyiseni Ndlozi          42506  ...      290019                  2.0\n",
              "2               Euphonik™♛          23365  ...      177615                  3.0\n",
              "3  Ulrich Janse van Vuuren          17456  ...      141006                  4.0\n",
              "4              Helen Zille          15094  ...       79630                  5.0\n",
              "\n",
              "[5 rows x 5 columns]"
            ]
          },
          "metadata": {
            "tags": []
          },
          "execution_count": 416
        }
      ]
    },
    {
      "cell_type": "code",
      "metadata": {
        "id": "RedeEYTx0L98",
        "colab_type": "code",
        "colab": {
          "base_uri": "https://localhost:8080/",
          "height": 204
        },
        "outputId": "14d4c671-00a2-4e3a-a87f-c93603616a1b"
      },
      "source": [
        "df_gov_popl.head()"
      ],
      "execution_count": 419,
      "outputs": [
        {
          "output_type": "execute_result",
          "data": {
            "text/html": [
              "<div>\n",
              "<style scoped>\n",
              "    .dataframe tbody tr th:only-of-type {\n",
              "        vertical-align: middle;\n",
              "    }\n",
              "\n",
              "    .dataframe tbody tr th {\n",
              "        vertical-align: top;\n",
              "    }\n",
              "\n",
              "    .dataframe thead th {\n",
              "        text-align: right;\n",
              "    }\n",
              "</style>\n",
              "<table border=\"1\" class=\"dataframe\">\n",
              "  <thead>\n",
              "    <tr style=\"text-align: right;\">\n",
              "      <th></th>\n",
              "      <th>name</th>\n",
              "      <th>retweet_count</th>\n",
              "      <th>favorite_count</th>\n",
              "      <th>popularity</th>\n",
              "      <th>Rank: By Popularity</th>\n",
              "    </tr>\n",
              "  </thead>\n",
              "  <tbody>\n",
              "    <tr>\n",
              "      <th>0</th>\n",
              "      <td>Muhammadu Buhari</td>\n",
              "      <td>289700</td>\n",
              "      <td>1434788</td>\n",
              "      <td>1724488</td>\n",
              "      <td>1.0</td>\n",
              "    </tr>\n",
              "    <tr>\n",
              "      <th>1</th>\n",
              "      <td>Nana Akufo-Addo</td>\n",
              "      <td>205035</td>\n",
              "      <td>1015494</td>\n",
              "      <td>1220529</td>\n",
              "      <td>2.0</td>\n",
              "    </tr>\n",
              "    <tr>\n",
              "      <th>2</th>\n",
              "      <td>Abdalla Hamdok</td>\n",
              "      <td>121221</td>\n",
              "      <td>562380</td>\n",
              "      <td>683601</td>\n",
              "      <td>3.0</td>\n",
              "    </tr>\n",
              "    <tr>\n",
              "      <th>3</th>\n",
              "      <td>Yoweri K Museveni</td>\n",
              "      <td>92523</td>\n",
              "      <td>496708</td>\n",
              "      <td>589231</td>\n",
              "      <td>4.0</td>\n",
              "    </tr>\n",
              "    <tr>\n",
              "      <th>4</th>\n",
              "      <td>Cyril Ramaphosa 🇿🇦 #StaySafe</td>\n",
              "      <td>93073</td>\n",
              "      <td>485854</td>\n",
              "      <td>578927</td>\n",
              "      <td>5.0</td>\n",
              "    </tr>\n",
              "  </tbody>\n",
              "</table>\n",
              "</div>"
            ],
            "text/plain": [
              "                           name  retweet_count  ...  popularity  Rank: By Popularity\n",
              "0              Muhammadu Buhari         289700  ...     1724488                  1.0\n",
              "1               Nana Akufo-Addo         205035  ...     1220529                  2.0\n",
              "2                Abdalla Hamdok         121221  ...      683601                  3.0\n",
              "3             Yoweri K Museveni          92523  ...      589231                  4.0\n",
              "4  Cyril Ramaphosa 🇿🇦 #StaySafe          93073  ...      578927                  5.0\n",
              "\n",
              "[5 rows x 5 columns]"
            ]
          },
          "metadata": {
            "tags": []
          },
          "execution_count": 419
        }
      ]
    },
    {
      "cell_type": "markdown",
      "metadata": {
        "id": "A7mbr6blwOBp",
        "colab_type": "text"
      },
      "source": [
        "### Extract the top mentions "
      ]
    },
    {
      "cell_type": "code",
      "metadata": {
        "id": "jrFxwFAzOfpV",
        "colab_type": "code",
        "colab": {}
      },
      "source": [
        "#i created a new dataframe for mentions\n",
        "df_mentions = df_infl['mention'].str.split(',', expand=True).rename(columns = lambda x: \"string\"+str(x+1))\n",
        "df2_mention = df_gov['mention'].str.split(',', expand=True).rename(columns = lambda x: \"string\"+str(x+1))"
      ],
      "execution_count": 420,
      "outputs": []
    },
    {
      "cell_type": "code",
      "metadata": {
        "id": "uswCCqGiPX8x",
        "colab_type": "code",
        "colab": {}
      },
      "source": [
        "#i melted all the values to a column since they are the same thing\n",
        "new = pd.melt(df_mentions)\n",
        "new2 = pd.melt(df2_mention)\n",
        "#i dropped all null values\n",
        "new = new.dropna(subset=['value'])\n",
        "new2 = new2.dropna(subset=['value'])\n",
        "#here i grouped by the number of time a value appeared\n",
        "new = new.groupby('value').count().reset_index()\n",
        "new2 = new2.groupby('value').count().reset_index()"
      ],
      "execution_count": 421,
      "outputs": []
    },
    {
      "cell_type": "code",
      "metadata": {
        "id": "-MfbVq7MUFn0",
        "colab_type": "code",
        "colab": {}
      },
      "source": [
        "#i did this to sort all the values in my data by number of mentions\n",
        "new.sort_values(by='variable', ascending=False, inplace=True)\n",
        "new2.sort_values(by='variable', ascending=False, inplace=True)"
      ],
      "execution_count": 422,
      "outputs": []
    },
    {
      "cell_type": "code",
      "metadata": {
        "id": "J9GhRAg4UPha",
        "colab_type": "code",
        "colab": {}
      },
      "source": [
        "new.reset_index(drop=True, inplace=True)\n",
        "new2.reset_index(drop=True, inplace=True)"
      ],
      "execution_count": 423,
      "outputs": []
    },
    {
      "cell_type": "code",
      "metadata": {
        "id": "OiyXcN8mne6W",
        "colab_type": "code",
        "colab": {}
      },
      "source": [
        "#i created a list of all the accounts in my original dataset\n",
        "names = list(df_new_infl['original_author'])\n",
        "names2 = list(df_new_gov['original_author'])\n",
        "#i used this to only get mentions of users in our influencers list which is the \n",
        "#scope of this project\n",
        "mentions_infl =new[new['value'].isin(names)]\n",
        "mentions_gov = new2[new2['value'].isin(names2)]\n",
        "#i had to reset the index because a lot of rows were dropped\n",
        "mentions_infl =mentions_infl.reset_index(drop=True)\n",
        "mentions_gov = mentions_gov.reset_index(drop=True)\n",
        "#i wanted the columns to have an understandable name \n",
        "mentions_infl=mentions_infl.rename(columns={'value' :'original_author',\"variable\": 'Count'})\n",
        "mentions_gov=mentions_gov.rename(columns={'value' :'original_author',\"variable\": 'Count'})"
      ],
      "execution_count": 424,
      "outputs": []
    },
    {
      "cell_type": "code",
      "metadata": {
        "id": "vdVBr-qy3K_g",
        "colab_type": "code",
        "colab": {}
      },
      "source": [
        "mention_names =list(mentions_infl['original_author']) \n",
        "mention_names_gov = list(mentions_gov[\"original_author\"])"
      ],
      "execution_count": 425,
      "outputs": []
    },
    {
      "cell_type": "code",
      "metadata": {
        "id": "BH2yXwrdCQ-U",
        "colab_type": "code",
        "colab": {}
      },
      "source": [
        "df2 = pd.DataFrame({\"original_author\": mention_names,\"Count\":[0] * len(mention_names)}) \n",
        "df3= pd.DataFrame({\"original_author\": mention_names_gov, \"Count\": [0] * len(mention_names_gov)})\n",
        "# for appending df2 at the end of df1 \n",
        "mentions_infl =mentions_infl.append(df2, ignore_index=True) \n",
        "mentions_gov= mentions_gov.append(df3, ignore_index=True)"
      ],
      "execution_count": 426,
      "outputs": []
    },
    {
      "cell_type": "code",
      "metadata": {
        "id": "7ox5OdXfFj7p",
        "colab_type": "code",
        "colab": {}
      },
      "source": [
        "mentions_gov[\"name\"] = mentions_gov['original_author'].map(gov_name)\n",
        "mentions_infl['name'] = mentions_infl['original_author'].map(infl_name)\n",
        "column_names = [\"original_author\", \"name\", \"Count\"]\n",
        "\n",
        "mentions_gov = mentions_gov.reindex(columns=column_names)\n",
        "mentions_infl = mentions_infl.reindex(columns=column_names)"
      ],
      "execution_count": 427,
      "outputs": []
    },
    {
      "cell_type": "code",
      "metadata": {
        "id": "gdjyS9ZjqH8F",
        "colab_type": "code",
        "colab": {}
      },
      "source": [
        "#here i did the ranking for both datasets \n",
        "mentions_infl[\"Rank: By Number of Mentions\"] = mentions_infl['Count'].rank(ascending=False)\n",
        "mentions_gov[\"Rank: By Number of Mentions\"] = mentions_gov['Count'].rank(ascending=False)"
      ],
      "execution_count": 428,
      "outputs": []
    },
    {
      "cell_type": "code",
      "metadata": {
        "id": "ELR1X5-5PNhj",
        "colab_type": "code",
        "colab": {
          "base_uri": "https://localhost:8080/",
          "height": 204
        },
        "outputId": "b79bef5e-13c9-4c91-9a19-6bd401e3b1ae"
      },
      "source": [
        "mentions_gov.head()"
      ],
      "execution_count": 430,
      "outputs": [
        {
          "output_type": "execute_result",
          "data": {
            "text/html": [
              "<div>\n",
              "<style scoped>\n",
              "    .dataframe tbody tr th:only-of-type {\n",
              "        vertical-align: middle;\n",
              "    }\n",
              "\n",
              "    .dataframe tbody tr th {\n",
              "        vertical-align: top;\n",
              "    }\n",
              "\n",
              "    .dataframe thead th {\n",
              "        text-align: right;\n",
              "    }\n",
              "</style>\n",
              "<table border=\"1\" class=\"dataframe\">\n",
              "  <thead>\n",
              "    <tr style=\"text-align: right;\">\n",
              "      <th></th>\n",
              "      <th>original_author</th>\n",
              "      <th>name</th>\n",
              "      <th>Count</th>\n",
              "      <th>Rank: By Number of Mentions</th>\n",
              "    </tr>\n",
              "  </thead>\n",
              "  <tbody>\n",
              "    <tr>\n",
              "      <th>0</th>\n",
              "      <td>CyrilRamaphosa</td>\n",
              "      <td>Cyril Ramaphosa 🇿🇦 #StaySafe</td>\n",
              "      <td>190</td>\n",
              "      <td>1.0</td>\n",
              "    </tr>\n",
              "    <tr>\n",
              "      <th>1</th>\n",
              "      <td>Macky_Sall</td>\n",
              "      <td>Macky Sall</td>\n",
              "      <td>113</td>\n",
              "      <td>2.0</td>\n",
              "    </tr>\n",
              "    <tr>\n",
              "      <th>2</th>\n",
              "      <td>MagufuliJP</td>\n",
              "      <td>Dr John Magufuli</td>\n",
              "      <td>108</td>\n",
              "      <td>3.0</td>\n",
              "    </tr>\n",
              "    <tr>\n",
              "      <th>3</th>\n",
              "      <td>mohzambia</td>\n",
              "      <td>Ministry of Health Zambia</td>\n",
              "      <td>73</td>\n",
              "      <td>4.0</td>\n",
              "    </tr>\n",
              "    <tr>\n",
              "      <th>4</th>\n",
              "      <td>gouvbenin</td>\n",
              "      <td>Gouvernement du Bénin 🇧🇯</td>\n",
              "      <td>34</td>\n",
              "      <td>5.0</td>\n",
              "    </tr>\n",
              "  </tbody>\n",
              "</table>\n",
              "</div>"
            ],
            "text/plain": [
              "  original_author  ... Rank: By Number of Mentions\n",
              "0  CyrilRamaphosa  ...                         1.0\n",
              "1      Macky_Sall  ...                         2.0\n",
              "2      MagufuliJP  ...                         3.0\n",
              "3       mohzambia  ...                         4.0\n",
              "4       gouvbenin  ...                         5.0\n",
              "\n",
              "[5 rows x 4 columns]"
            ]
          },
          "metadata": {
            "tags": []
          },
          "execution_count": 430
        }
      ]
    },
    {
      "cell_type": "code",
      "metadata": {
        "id": "0qk2qo4zR6YY",
        "colab_type": "code",
        "colab": {
          "base_uri": "https://localhost:8080/",
          "height": 204
        },
        "outputId": "78157ec6-3c73-4c6e-a5f2-c84d5ffd4077"
      },
      "source": [
        "mentions_infl.head()"
      ],
      "execution_count": 431,
      "outputs": [
        {
          "output_type": "execute_result",
          "data": {
            "text/html": [
              "<div>\n",
              "<style scoped>\n",
              "    .dataframe tbody tr th:only-of-type {\n",
              "        vertical-align: middle;\n",
              "    }\n",
              "\n",
              "    .dataframe tbody tr th {\n",
              "        vertical-align: top;\n",
              "    }\n",
              "\n",
              "    .dataframe thead th {\n",
              "        text-align: right;\n",
              "    }\n",
              "</style>\n",
              "<table border=\"1\" class=\"dataframe\">\n",
              "  <thead>\n",
              "    <tr style=\"text-align: right;\">\n",
              "      <th></th>\n",
              "      <th>original_author</th>\n",
              "      <th>name</th>\n",
              "      <th>Count</th>\n",
              "      <th>Rank: By Number of Mentions</th>\n",
              "    </tr>\n",
              "  </thead>\n",
              "  <tbody>\n",
              "    <tr>\n",
              "      <th>0</th>\n",
              "      <td>_AfricanUnion</td>\n",
              "      <td>African Union</td>\n",
              "      <td>96</td>\n",
              "      <td>1.0</td>\n",
              "    </tr>\n",
              "    <tr>\n",
              "      <th>1</th>\n",
              "      <td>AfricaCheck</td>\n",
              "      <td>Africa Check</td>\n",
              "      <td>33</td>\n",
              "      <td>2.0</td>\n",
              "    </tr>\n",
              "    <tr>\n",
              "      <th>2</th>\n",
              "      <td>TheStar_news</td>\n",
              "      <td>The Star</td>\n",
              "      <td>27</td>\n",
              "      <td>3.0</td>\n",
              "    </tr>\n",
              "    <tr>\n",
              "      <th>3</th>\n",
              "      <td>TheAfricaReport</td>\n",
              "      <td>The Africa Report</td>\n",
              "      <td>20</td>\n",
              "      <td>4.0</td>\n",
              "    </tr>\n",
              "    <tr>\n",
              "      <th>4</th>\n",
              "      <td>BrendanSAfrica</td>\n",
              "      <td>Brendan Boyle</td>\n",
              "      <td>15</td>\n",
              "      <td>5.5</td>\n",
              "    </tr>\n",
              "  </tbody>\n",
              "</table>\n",
              "</div>"
            ],
            "text/plain": [
              "   original_author               name  Count  Rank: By Number of Mentions\n",
              "0    _AfricanUnion      African Union     96                          1.0\n",
              "1      AfricaCheck       Africa Check     33                          2.0\n",
              "2     TheStar_news           The Star     27                          3.0\n",
              "3  TheAfricaReport  The Africa Report     20                          4.0\n",
              "4   BrendanSAfrica      Brendan Boyle     15                          5.5"
            ]
          },
          "metadata": {
            "tags": []
          },
          "execution_count": 431
        }
      ]
    },
    {
      "cell_type": "code",
      "metadata": {
        "id": "vUxBPUrUSLiJ",
        "colab_type": "code",
        "colab": {}
      },
      "source": [
        ""
      ],
      "execution_count": null,
      "outputs": []
    },
    {
      "cell_type": "code",
      "metadata": {
        "id": "sbXKFwqCSLac",
        "colab_type": "code",
        "colab": {}
      },
      "source": [
        ""
      ],
      "execution_count": null,
      "outputs": []
    },
    {
      "cell_type": "markdown",
      "metadata": {
        "id": "wBmaAPNS6lm5",
        "colab_type": "text"
      },
      "source": [
        "### Extract the top 5 unique hashtags these influencers and government officials used in their top 10 retweets.  Group them based on their top 5 hashtags similarities. "
      ]
    },
    {
      "cell_type": "code",
      "metadata": {
        "id": "ZAFEIVUvxeoH",
        "colab_type": "code",
        "colab": {}
      },
      "source": [
        "#i want to start start with recovering the top ten retweets, \n",
        "#this signifies what their followers accept and support tells us a little bit about their audience "
      ],
      "execution_count": null,
      "outputs": []
    },
    {
      "cell_type": "code",
      "metadata": {
        "id": "nEKXk4m66VgB",
        "colab_type": "code",
        "colab": {}
      },
      "source": [
        "#i would start from retrieving their top ten retweets for each \n",
        "#of the influencers and government official\n",
        "#this code will first group the objects by name then sort all the values \n",
        "#by the number of retweets, then finally retrieve the first 10 rows for our use\n",
        "df_infl_retweet = df_infl.sort_values(['retweet_count'], ascending=False).groupby('name').head(10)\n",
        "df_gov_retweet = df_gov.sort_values(['retweet_count'], ascending=False).groupby('name').head(10)"
      ],
      "execution_count": 432,
      "outputs": []
    },
    {
      "cell_type": "code",
      "metadata": {
        "id": "DjpGJ71FS3as",
        "colab_type": "code",
        "colab": {}
      },
      "source": [
        "#this would create a new column for each new string of hashtags \n",
        "top_ten_hashtags_infl = df_infl_retweet['hashtags'].str.split(',', expand=True).rename(columns = lambda x: \"hashtag\"+str(x+1))\n",
        "top_ten_hashtags_gov = df_gov_retweet['hashtags'].str.split(',', expand=True).rename(columns = lambda x: \"hashtag\"+str(x+1))"
      ],
      "execution_count": 433,
      "outputs": []
    },
    {
      "cell_type": "code",
      "metadata": {
        "id": "IHLHpCc2S3Q2",
        "colab_type": "code",
        "colab": {}
      },
      "source": [
        "top_ten_hashtags_infl['original_author'] = df_infl_retweet['original_author']\n",
        "top_ten_hashtags_gov['original_author'] = df_gov_retweet['original_author']\n"
      ],
      "execution_count": 438,
      "outputs": []
    },
    {
      "cell_type": "code",
      "metadata": {
        "id": "tEPSRznzUkWc",
        "colab_type": "code",
        "colab": {}
      },
      "source": [
        "top_ten_hashtags_gov.dropna(thresh=2, inplace=True)\n",
        "top_ten_hashtags_infl.dropna(thresh=2, inplace=True)"
      ],
      "execution_count": 439,
      "outputs": []
    },
    {
      "cell_type": "code",
      "metadata": {
        "colab_type": "code",
        "id": "seZuRWBRVJAy",
        "colab": {}
      },
      "source": [
        "top_ten_hashtags_gov =top_ten_hashtags_gov.melt(id_vars='original_author')\n",
        "top_ten_hashtags_infl= top_ten_hashtags_infl.melt(id_vars='original_author')"
      ],
      "execution_count": 440,
      "outputs": []
    },
    {
      "cell_type": "code",
      "metadata": {
        "colab_type": "code",
        "id": "LREPMaaaVJA4",
        "colab": {
          "base_uri": "https://localhost:8080/",
          "height": 221
        },
        "outputId": "228af68b-fa9d-47fa-a3f8-04113640a8fd"
      },
      "source": [
        "# i dropped all the null values, those without hashtags\n",
        "gov = top_ten_hashtags_gov.dropna()\n",
        "infl = top_ten_hashtags_infl.dropna()\n",
        "infl['value'] = infl[\"value\"].str.lower()\n",
        "gov['value'] = gov['value'].str.lower()"
      ],
      "execution_count": 441,
      "outputs": [
        {
          "output_type": "stream",
          "text": [
            "/usr/local/lib/python3.6/dist-packages/ipykernel_launcher.py:4: SettingWithCopyWarning: \n",
            "A value is trying to be set on a copy of a slice from a DataFrame.\n",
            "Try using .loc[row_indexer,col_indexer] = value instead\n",
            "\n",
            "See the caveats in the documentation: https://pandas.pydata.org/pandas-docs/stable/user_guide/indexing.html#returning-a-view-versus-a-copy\n",
            "  after removing the cwd from sys.path.\n",
            "/usr/local/lib/python3.6/dist-packages/ipykernel_launcher.py:5: SettingWithCopyWarning: \n",
            "A value is trying to be set on a copy of a slice from a DataFrame.\n",
            "Try using .loc[row_indexer,col_indexer] = value instead\n",
            "\n",
            "See the caveats in the documentation: https://pandas.pydata.org/pandas-docs/stable/user_guide/indexing.html#returning-a-view-versus-a-copy\n",
            "  \"\"\"\n"
          ],
          "name": "stderr"
        }
      ]
    },
    {
      "cell_type": "code",
      "metadata": {
        "id": "m_STYq4cTts7",
        "colab_type": "code",
        "colab": {
          "base_uri": "https://localhost:8080/",
          "height": 221
        },
        "outputId": "0340ce4a-90f6-4aef-c942-b32d5a9499ec"
      },
      "source": [
        "infl['value'] = infl['value'].str.replace(\" \",\"\")\n",
        "gov['value'] = gov['value'].str.replace(\" \",\"\")"
      ],
      "execution_count": 442,
      "outputs": [
        {
          "output_type": "stream",
          "text": [
            "/usr/local/lib/python3.6/dist-packages/ipykernel_launcher.py:1: SettingWithCopyWarning: \n",
            "A value is trying to be set on a copy of a slice from a DataFrame.\n",
            "Try using .loc[row_indexer,col_indexer] = value instead\n",
            "\n",
            "See the caveats in the documentation: https://pandas.pydata.org/pandas-docs/stable/user_guide/indexing.html#returning-a-view-versus-a-copy\n",
            "  \"\"\"Entry point for launching an IPython kernel.\n",
            "/usr/local/lib/python3.6/dist-packages/ipykernel_launcher.py:2: SettingWithCopyWarning: \n",
            "A value is trying to be set on a copy of a slice from a DataFrame.\n",
            "Try using .loc[row_indexer,col_indexer] = value instead\n",
            "\n",
            "See the caveats in the documentation: https://pandas.pydata.org/pandas-docs/stable/user_guide/indexing.html#returning-a-view-versus-a-copy\n",
            "  \n"
          ],
          "name": "stderr"
        }
      ]
    },
    {
      "cell_type": "code",
      "metadata": {
        "colab_type": "code",
        "id": "XhWl3OlrWywP",
        "colab": {}
      },
      "source": [
        "infl= infl.drop(columns='variable')\n",
        "gov = gov.drop(columns='variable')"
      ],
      "execution_count": 445,
      "outputs": []
    },
    {
      "cell_type": "code",
      "metadata": {
        "colab_type": "code",
        "id": "7cPza0auWywY",
        "colab": {}
      },
      "source": [
        "hashtags_onehot = pd.get_dummies(infl[['value']], prefix=\"\", prefix_sep=\"\")\n",
        "hashtags_gov_onehot = pd.get_dummies(gov[['value']], prefix=\"\", prefix_sep=\"\")\n"
      ],
      "execution_count": 446,
      "outputs": []
    },
    {
      "cell_type": "code",
      "metadata": {
        "colab_type": "code",
        "id": "gJKwV4jIWywc",
        "colab": {}
      },
      "source": [
        "hashtags_onehot\n",
        "# add original author column back to dataframe\n",
        "hashtags_onehot['original_author'] = infl['original_author'] \n",
        "hashtags_gov_onehot['original_author'] = gov['original_author']\n",
        "# move original author column to the first column\n",
        "fixed_columns = [hashtags_onehot.columns[-1]] + list(hashtags_onehot.columns[:-1])\n",
        "hashtags_onehot = hashtags_onehot[fixed_columns]\n",
        "fixed_columns2 = [hashtags_gov_onehot.columns[-1]] + list(hashtags_gov_onehot.columns[:-1])\n",
        "hashtags_gov_onehot = hashtags_gov_onehot[fixed_columns2]\n"
      ],
      "execution_count": 447,
      "outputs": []
    },
    {
      "cell_type": "code",
      "metadata": {
        "colab_type": "code",
        "id": "1SRi5jxXWywh",
        "colab": {}
      },
      "source": [
        "#i grouped then and measure by the mean of the hashtags\n",
        "hashtags_grouped = hashtags_onehot.groupby('original_author').mean().reset_index()\n",
        "hashtags_gov_grouped = hashtags_gov_onehot.groupby('original_author').mean().reset_index()"
      ],
      "execution_count": 448,
      "outputs": []
    },
    {
      "cell_type": "code",
      "metadata": {
        "id": "mxfhG--CmG4z",
        "colab_type": "code",
        "colab": {}
      },
      "source": [
        "hashtags_grouped.replace(0, np.nan, inplace=True)\n",
        "hashtags_gov_grouped.replace(0, np.nan, inplace=True)"
      ],
      "execution_count": 449,
      "outputs": []
    },
    {
      "cell_type": "code",
      "metadata": {
        "colab_type": "code",
        "id": "WbRjhkCwWywk",
        "colab": {
          "base_uri": "https://localhost:8080/",
          "height": 629
        },
        "outputId": "3e6564cd-a7fe-44e6-e544-f618df84be2b"
      },
      "source": [
        "for hashtag in hashtags_grouped['original_author']:\n",
        "    print(\"----\"+hashtag+\"----\")\n",
        "    temp = hashtags_grouped[hashtags_grouped['original_author'] == hashtag].T.reset_index()\n",
        "    temp.columns = ['hashtag','freq']\n",
        "    temp = temp.iloc[1:]\n",
        "    temp['freq'] = temp['freq'].astype(float)\n",
        "    temp = temp.round({'freq': 2})\n",
        "    print(temp.sort_values('freq', ascending=False).reset_index(drop=True).head(5))\n",
        "    print('\\n')"
      ],
      "execution_count": 450,
      "outputs": [
        {
          "output_type": "stream",
          "text": [
            "----GarethCliff----\n",
            "     hashtag  freq\n",
            "0   hashtag5   0.5\n",
            "1   hashtag6   0.5\n",
            "2         a6   NaN\n",
            "3  alshabaab   NaN\n",
            "4        amg   NaN\n",
            "\n",
            "\n",
            "----News24----\n",
            "     hashtag  freq\n",
            "0   hashtag4  0.55\n",
            "1   hashtag3  0.36\n",
            "2         a6  0.09\n",
            "3  alshabaab   NaN\n",
            "4        amg   NaN\n",
            "\n",
            "\n",
            "----Trevornoah----\n",
            "      hashtag  freq\n",
            "0    hashtag1  0.35\n",
            "1    hashtag2  0.24\n",
            "2   alshabaab  0.06\n",
            "3         amg  0.06\n",
            "4  leadership  0.06\n",
            "\n",
            "\n",
            "----euphonik----\n",
            "     hashtag  freq\n",
            "0   hashtag6   1.0\n",
            "1         a6   NaN\n",
            "2  alshabaab   NaN\n",
            "3        amg   NaN\n",
            "4   hashtag1   NaN\n",
            "\n",
            "\n"
          ],
          "name": "stdout"
        }
      ]
    },
    {
      "cell_type": "code",
      "metadata": {
        "id": "J2NN6j67dyFN",
        "colab_type": "code",
        "colab": {}
      },
      "source": [
        ""
      ],
      "execution_count": 450,
      "outputs": []
    },
    {
      "cell_type": "code",
      "metadata": {
        "id": "kOtiTrJFdajF",
        "colab_type": "code",
        "colab": {
          "base_uri": "https://localhost:8080/",
          "height": 391
        },
        "outputId": "09653ac5-f3ca-4100-97ff-45f42b861a95"
      },
      "source": [
        "for hashtag in hashtags_gov_grouped['original_author']:\n",
        "    print(\"----\"+hashtag+\"----\")\n",
        "    temp = hashtags_gov_grouped[hashtags_gov_grouped['original_author'] == hashtag].T.reset_index()\n",
        "    temp.columns = ['hashtag','freq']\n",
        "    temp = temp.iloc[1:]\n",
        "    temp['freq'] = temp['freq'].astype(float)\n",
        "    temp = temp.round({'freq': 2})\n",
        "    print(temp.sort_values('freq', ascending=False).reset_index(drop=True).head(7))\n",
        "    print('\\n')"
      ],
      "execution_count": 451,
      "outputs": [
        {
          "output_type": "stream",
          "text": [
            "----a----\n",
            "       hashtag  freq\n",
            "0     hashtag4   1.0\n",
            "1       bissau   NaN\n",
            "2  coronavirus   NaN\n",
            "3      covid19   NaN\n",
            "4    covid19bj   NaN\n",
            "5     covid_19   NaN\n",
            "6       gambia   NaN\n",
            "\n",
            "\n",
            "----p----\n",
            "       hashtag  freq\n",
            "0     hashtag1  0.50\n",
            "1      covid19  0.15\n",
            "2       bissau  0.05\n",
            "3  coronavirus  0.05\n",
            "4    covid19bj  0.05\n",
            "5     covid_19  0.05\n",
            "6       gambia  0.05\n",
            "\n",
            "\n"
          ],
          "name": "stdout"
        }
      ]
    },
    {
      "cell_type": "code",
      "metadata": {
        "id": "3I8Z358ySFj4",
        "colab_type": "code",
        "colab": {}
      },
      "source": [
        ""
      ],
      "execution_count": 451,
      "outputs": []
    }
  ]
}