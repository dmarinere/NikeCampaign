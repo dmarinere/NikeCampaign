{
  "nbformat": 4,
  "nbformat_minor": 0,
  "metadata": {
    "kernelspec": {
      "display_name": "Python [conda env:.conda-10x]",
      "language": "python",
      "name": "conda-env-.conda-10x-py"
    },
    "language_info": {
      "codemirror_mode": {
        "name": "ipython",
        "version": 3
      },
      "file_extension": ".py",
      "mimetype": "text/x-python",
      "name": "python",
      "nbconvert_exporter": "python",
      "pygments_lexer": "ipython3",
      "version": "3.7.3"
    },
    "colab": {
      "name": "scrapping_starter.ipynb",
      "provenance": [],
      "collapsed_sections": [],
      "include_colab_link": true
    }
  },
  "cells": [
    {
      "cell_type": "markdown",
      "metadata": {
        "id": "view-in-github",
        "colab_type": "text"
      },
      "source": [
        "<a href=\"https://colab.research.google.com/github/dmarinere/NikeCampaign/blob/master/scrapping_starter.ipynb\" target=\"_parent\"><img src=\"https://colab.research.google.com/assets/colab-badge.svg\" alt=\"Open In Colab\"/></a>"
      ]
    },
    {
      "cell_type": "markdown",
      "metadata": {
        "id": "CjpspbVS1FiJ",
        "colab_type": "text"
      },
      "source": [
        "## Web scrapping using python\n",
        "\n",
        "#### References\n",
        "1. [Practical Introduction to Web Scraping in Python](https://realpython.com/python-web-scraping-practical-introduction/)\n",
        "2. [Web Scraping using Python](https://www.datacamp.com/community/tutorials/web-scraping-using-python)"
      ]
    },
    {
      "cell_type": "code",
      "metadata": {
        "id": "ONq8zoln1FiW",
        "colab_type": "code",
        "colab": {
          "base_uri": "https://localhost:8080/",
          "height": 258
        },
        "outputId": "43b61237-42dc-4365-a0a9-7d4d569b6a87"
      },
      "source": [
        "!pip install fire\n",
        "from requests import get\n",
        "from requests.exceptions import RequestException\n",
        "from contextlib import closing\n",
        "from bs4 import BeautifulSoup\n",
        "import pandas as pd\n",
        "import os, sys\n",
        "import re \n",
        "import fire\n",
        "import tweepy\n",
        "from tweepy.streaming import StreamListener\n",
        "from tweepy import OAuthHandler\n",
        "from tweepy import Stream\n",
        "import logging\n",
        "import json\n",
        "\n",
        "#sentiment analysis package\n",
        "!pip install textblob\n",
        "from textblob import TextBlob\n",
        "\n",
        "#general text pre-processor\n",
        "!pip install nltk\n",
        "import nltk\n",
        "from nltk.corpus import stopwords\n",
        "nltk.download('stopwords')\n",
        "nltk.download('punkt')\n",
        "\n",
        "#tweet pre-processor \n",
        "!pip install tweet-preprocessor\n",
        "import preprocessor as p\n",
        "\n",
        "logger = logging.getLogger()"
      ],
      "execution_count": 99,
      "outputs": [
        {
          "output_type": "stream",
          "text": [
            "Requirement already satisfied: fire in /usr/local/lib/python3.6/dist-packages (0.3.1)\n",
            "Requirement already satisfied: termcolor in /usr/local/lib/python3.6/dist-packages (from fire) (1.1.0)\n",
            "Requirement already satisfied: six in /usr/local/lib/python3.6/dist-packages (from fire) (1.12.0)\n",
            "Requirement already satisfied: textblob in /usr/local/lib/python3.6/dist-packages (0.15.3)\n",
            "Requirement already satisfied: nltk>=3.1 in /usr/local/lib/python3.6/dist-packages (from textblob) (3.2.5)\n",
            "Requirement already satisfied: six in /usr/local/lib/python3.6/dist-packages (from nltk>=3.1->textblob) (1.12.0)\n",
            "Requirement already satisfied: nltk in /usr/local/lib/python3.6/dist-packages (3.2.5)\n",
            "Requirement already satisfied: six in /usr/local/lib/python3.6/dist-packages (from nltk) (1.12.0)\n",
            "[nltk_data] Downloading package stopwords to /root/nltk_data...\n",
            "[nltk_data]   Package stopwords is already up-to-date!\n",
            "[nltk_data] Downloading package punkt to /root/nltk_data...\n",
            "[nltk_data]   Package punkt is already up-to-date!\n",
            "Requirement already satisfied: tweet-preprocessor in /usr/local/lib/python3.6/dist-packages (0.6.0)\n"
          ],
          "name": "stdout"
        }
      ]
    },
    {
      "cell_type": "code",
      "metadata": {
        "id": "GPZeUN6NeoSl",
        "colab_type": "code",
        "colab": {}
      },
      "source": [
        "\n",
        "class tweetsearch():\n",
        "    '''\n",
        "    This is a basic class to search and download twitter data.\n",
        "    You can build up on it to extend the functionalities for more \n",
        "    sophisticated analysis\n",
        "    '''\n",
        "    def __init__(self, cols=None,auth=None):\n",
        "        if cols is None:\n",
        "            self.cols = ['id', 'created_at', 'source', 'original_text','clean_text', \n",
        "                    'sentiment','polarity','subjectivity', 'lang',\n",
        "                    'favorite_count', 'retweet_count', 'original_author',   \n",
        "                    'possibly_sensitive', 'hashtags',\n",
        "                    'user_mentions', 'place', 'place_coord_boundaries']\n",
        "        else:\n",
        "            self.cols = cols\n",
        "  \n",
        "            \n",
        "        if auth is None:\n",
        "            #Variables that contains the user credentials to access Twitter API \n",
        "            consumer_key = os.environ.get('TWITTER_API_KEY')\n",
        "            consumer_secret = os.environ.get('TWITTER_API_SECRET')\n",
        "            access_token = os.environ.get('TWITTER_ACCESS_TOKEN')\n",
        "            access_token_secret = os.environ.get('TWITTER_ACCESS_TOKEN_SECRET')\n",
        "\n",
        "\n",
        "            #This handles Twitter authetification and the connection to Twitter Streaming API\n",
        "            auth = OAuthHandler(consumer_key, consumer_secret)\n",
        "            auth.set_access_token(access_token, access_token_secret)\n",
        "            \n",
        "\n",
        "        #            \n",
        "        self.auth = auth\n",
        "        self.api = tweepy.API(auth)            \n",
        "            \n",
        "\n",
        "    def clean_tweets(self, twitter_text):\n",
        "        self.twitter_text = twitter_text\n",
        "        #use pre processor\n",
        "        tweet = p.clean(self.twitter_text)\n",
        "\n",
        "         #HappyEmoticons\n",
        "        emoticons_happy = set([\n",
        "            ':-)', ':)', ';)', ':o)', ':]', ':3', ':c)', ':>', '=]', '8)', '=)', ':}',\n",
        "            ':^)', ':-D', ':D', '8-D', '8D', 'x-D', 'xD', 'X-D', 'XD', '=-D', '=D',\n",
        "            '=-3', '=3', ':-))', \":'-)\", \":')\", ':*', ':^*', '>:P', ':-P', ':P', 'X-P',\n",
        "            'x-p', 'xp', 'XP', ':-p', ':p', '=p', ':-b', ':b', '>:)', '>;)', '>:-)',\n",
        "            '<3'\n",
        "            ])\n",
        "\n",
        "        # Sad Emoticons\n",
        "        emoticons_sad = set([\n",
        "            ':L', ':-/', '>:/', ':S', '>:[', ':@', ':-(', ':[', ':-||', '=L', ':<',\n",
        "            ':-[', ':-<', '=\\\\', '=/', '>:(', ':(', '>.<', \":'-(\", \":'(\", ':\\\\', ':-c',\n",
        "            ':c', ':{', '>:\\\\', ';('\n",
        "            ])\n",
        "\n",
        "        #Emoji patterns\n",
        "        emoji_pattern = re.compile(\"[\"\n",
        "                 u\"\\U0001F600-\\U0001F64F\"  # emoticons\n",
        "                 u\"\\U0001F300-\\U0001F5FF\"  # symbols & pictographs\n",
        "                 u\"\\U0001F680-\\U0001F6FF\"  # transport & map symbols\n",
        "                 u\"\\U0001F1E0-\\U0001F1FF\"  # flags (iOS)\n",
        "                 u\"\\U00002702-\\U000027B0\"\n",
        "                 u\"\\U000024C2-\\U0001F251\"\n",
        "                 \"]+\", flags=re.UNICODE)\n",
        "\n",
        "        #combine sad and happy emoticons\n",
        "        emoticons = emoticons_happy.union(emoticons_sad)\n",
        "\n",
        "        stop_words = set(stopwords.words('english'))\n",
        "        word_tokens = nltk.word_tokenize(tweet)\n",
        "        #after tweepy preprocessing the colon symbol left remain after      \n",
        "        #removing mentions\n",
        "        tweet = re.sub(r':', '', tweet)\n",
        "        tweet = re.sub(r'‚Ä¶', '', tweet)\n",
        "\n",
        "        #replace consecutive non-ASCII characters with a space\n",
        "        tweet = re.sub(r'[^\\x00-\\x7F]+',' ', tweet)\n",
        "\n",
        "        #remove emojis from tweet\n",
        "        tweet = emoji_pattern.sub(r'', tweet)\n",
        "\n",
        "        #filter using NLTK library append it to a string\n",
        "        filtered_tweet = [w for w in word_tokens if not w in stop_words]\n",
        "\n",
        "        #looping through conditions\n",
        "        filtered_tweet = []    \n",
        "        for w in word_tokens:\n",
        "        #check tokens against stop words , emoticons and punctuations\n",
        "            if w not in stop_words and w not in emoticons and w not in string.punctuation:\n",
        "                filtered_tweet.append(w)\n",
        "\n",
        "        self.filtered_tweet = ' '.join(filtered_tweet)\n",
        "    def get_tweets(self, keyword, csvfile=None):\n",
        "        \n",
        "        \n",
        "        df = pd.DataFrame(columns=self.cols)\n",
        "        \n",
        "        if not csvfile is None:\n",
        "            #If the file exists, then read the existing data from the CSV file.\n",
        "            if os.path.exists(csvfile):\n",
        "                df = pd.read_csv(csvfile, header=0)\n",
        "            \n",
        "\n",
        "        #page attribute in tweepy.cursor and  for twitter users \n",
        "        for page in tweepy.Cursor(self.api.user_timeline, id=user_handle).pages(70):\n",
        "\n",
        "\n",
        "\n",
        "            for status in page:\n",
        "                \n",
        "                new_entry = []\n",
        "                status = status._json\n",
        "                \n",
        "                #filter by language\n",
        "                if status['lang'] != 'en':\n",
        "                    continue\n",
        "\n",
        "                \n",
        "                #if this tweet is a retweet update retweet count\n",
        "                if status['created_at'] in df['created_at'].values:\n",
        "                    i = df.loc[df['created_at'] == status['created_at']].index[0]\n",
        "                    #\n",
        "                    cond1 = status['favorite_count'] != df.at[i, 'favorite_count']\n",
        "                    cond2 = status['retweet_count'] != df.at[i, 'retweet_count']\n",
        "                    if cond1 or cond2:\n",
        "                        df.at[i, 'favorite_count'] = status['favorite_count']\n",
        "                        df.at[i, 'retweet_count'] = status['retweet_count']\n",
        "                    continue\n",
        "                self.clean_tweets(status['text'])\n",
        "\n",
        "                #calculate sentiment\n",
        "                blob = TextBlob(self.filtered_tweet)\n",
        "                Sentiment = blob.sentiment     \n",
        "                polarity = Sentiment.polarity\n",
        "                subjectivity = Sentiment.subjectivity\n",
        "\n",
        "                new_entry += [status['id'], status['created_at'],\n",
        "                              status['source'], status['text'],self.filtered_tweet, \n",
        "                              Sentiment,polarity,subjectivity, status['lang'],\n",
        "                              status['favorite_count'], status['retweet_count']]\n",
        "\n",
        "                new_entry.append(status['user']['screen_name'])\n",
        "                new_entry.append(status['user']['created_at'])\n",
        "\n",
        "\n",
        "                try:\n",
        "                    is_sensitive = status['possibly_sensitive']\n",
        "                except KeyError:\n",
        "                    is_sensitive = None\n",
        "\n",
        "                new_entry.append(is_sensitive)\n",
        "\n",
        "                hashtags = \", \".join([hashtag_item['text'] for hashtag_item in status['entities']['hashtags']])\n",
        "                new_entry.append(hashtags) #append the hashtags\n",
        "\n",
        "                #\n",
        "                mentions = \", \".join([mention['screen_name'] for mention in status['entities']['user_mentions']])\n",
        "                new_entry.append(mentions) #append the user mentions\n",
        "\n",
        "                try:\n",
        "                    xyz = status['place']['bounding_box']['coordinates']\n",
        "                    coordinates = [coord for loc in xyz for coord in loc]\n",
        "                except TypeError:\n",
        "                    coordinates = None\n",
        "                #\n",
        "                new_entry.append(coordinates)\n",
        "\n",
        "                try:\n",
        "                    location = status['user']['location']\n",
        "                except TypeError:\n",
        "                    location = ''\n",
        "                #\n",
        "                new_entry.append(location)\n",
        "\n",
        "                #now append a row to the dataframe\n",
        "                single_tweet_df = pd.DataFrame([new_entry], columns=self.cols)\n",
        "                df = df.append(single_tweet_df, ignore_index=True)\n",
        "\n",
        "        if not csvfile is None:\n",
        "            #save it to file\n",
        "            df.to_csv(csvfile, columns=self.cols, index=False, encoding=\"utf-8\")\n",
        "            \n",
        "        return df"
      ],
      "execution_count": 100,
      "outputs": []
    },
    {
      "cell_type": "code",
      "metadata": {
        "id": "CqrQK3xE1Fib",
        "colab_type": "code",
        "colab": {}
      },
      "source": [
        "#%%writefile ../pyscrap_url.py\n",
        "\n",
        "def simple_get(url):\n",
        "    \"\"\"\n",
        "    Attempts to get the content at `url` by making an HTTP GET request.\n",
        "    If the content-type of response is some kind of HTML/XML, return the\n",
        "    text content, otherwise return None.\n",
        "    \"\"\"\n",
        "    try:\n",
        "        with closing(get(url, stream=True)) as resp:\n",
        "            if is_good_response(resp):\n",
        "                return resp.content  #.encode(BeautifulSoup.original_encoding)\n",
        "            else:\n",
        "                return None\n",
        "\n",
        "    except RequestException as e:\n",
        "        log_error('Error during requests to {0} : {1}'.format(url, str(e)))\n",
        "        return None\n",
        "\n",
        "\n",
        "def is_good_response(resp):\n",
        "    \"\"\"\n",
        "    Returns True if the response seems to be HTML, False otherwise.\n",
        "    \"\"\"\n",
        "    content_type = resp.headers['Content-Type'].lower()\n",
        "    return (resp.status_code == 200 \n",
        "            and content_type is not None \n",
        "            and content_type.find('html') > -1)\n",
        "\n",
        "\n",
        "def log_error(e):\n",
        "    \"\"\"\n",
        "    It is always a good idea to log errors. \n",
        "    This function just prints them, but you can\n",
        "    make it do anything.\n",
        "    \"\"\"\n",
        "    print(e)\n",
        "    \n",
        "def get_elements(url, tag='',search={}, fname=None):\n",
        "    \"\"\"\n",
        "    Downloads a page specified by the url parameter\n",
        "    and returns a list of strings, one per tag element\n",
        "    \"\"\"\n",
        "    \n",
        "    if isinstance(url,str):\n",
        "        response = simple_get(url)\n",
        "    else:\n",
        "        #if already it is a loaded html page\n",
        "        response = url\n",
        "\n",
        "    if response is not None:\n",
        "        html = BeautifulSoup(response, 'html.parser')\n",
        "        \n",
        "        res = []\n",
        "        if tag:    \n",
        "            for li in html.select(tag):\n",
        "                for name in li.text.split('\\n'):\n",
        "                    if len(name) > 0:\n",
        "                        res.append(name.strip())\n",
        "                       \n",
        "                \n",
        "        if search:\n",
        "            soup = html            \n",
        "            \n",
        "            \n",
        "            r = ''\n",
        "            if 'find' in search.keys():\n",
        "                print('findaing',search['find'])\n",
        "                soup = soup.find(**search['find'])\n",
        "                r = soup\n",
        "\n",
        "                \n",
        "            if 'find_all' in search.keys():\n",
        "                print('findaing all of',search['find_all'])\n",
        "                r = soup.find_all(**search['find_all'])\n",
        "   \n",
        "            if r:\n",
        "                for x in list(r):\n",
        "                    if len(x) > 0:\n",
        "                        res.extend(x)\n",
        "            \n",
        "        return res\n",
        "\n",
        "    # Raise an exception if we failed to get any data from the url\n",
        "    raise Exception('Error retrieving contents at {}'.format(url))    \n",
        "    \n",
        "    \n",
        "if get_ipython().__class__.__name__ == '__main__':\n",
        "    fire(get_tag_elements)"
      ],
      "execution_count": 101,
      "outputs": []
    },
    {
      "cell_type": "code",
      "metadata": {
        "id": "WPB1CpTy1Fif",
        "colab_type": "code",
        "colab": {}
      },
      "source": [
        "res = get_elements('https://africafreak.com/100-most-influential-twitter-users-in-africa',tag='h2')"
      ],
      "execution_count": 102,
      "outputs": []
    },
    {
      "cell_type": "code",
      "metadata": {
        "id": "9VU-dOlskYlT",
        "colab_type": "code",
        "colab": {}
      },
      "source": [
        "numbers = []\n",
        "for item in range(100):\n",
        "  number = res[item].split('.')\n",
        "  numbers.append(number)"
      ],
      "execution_count": 103,
      "outputs": []
    },
    {
      "cell_type": "code",
      "metadata": {
        "id": "8X7dYy0D1uGq",
        "colab_type": "code",
        "colab": {}
      },
      "source": [
        "#This helps to extract the number in the dataframe\n",
        "index = []\n",
        "for char in numbers:\n",
        "  index.append(char[0])"
      ],
      "execution_count": 106,
      "outputs": []
    },
    {
      "cell_type": "code",
      "metadata": {
        "id": "UA-HhrOHkubl",
        "colab_type": "code",
        "colab": {}
      },
      "source": [
        "#This line helps to extract the name of each of them from the list\n",
        "names =[]\n",
        "for name in numbers:\n",
        "  names.append(name[-1].split(\"(\"))\n",
        "fullname = []\n",
        "for name in names:\n",
        "  fullname.append(name[0].strip())\n",
        "handle =[]\n",
        "for name in names:\n",
        "  handle.append(name[-1][:-1])\n"
      ],
      "execution_count": 108,
      "outputs": []
    },
    {
      "cell_type": "code",
      "metadata": {
        "id": "LLqHmA-TV-YR",
        "colab_type": "code",
        "colab": {}
      },
      "source": [
        "df = pd.DataFrame(list(zip(index,fullname, handle)), columns=['Number','Name', 'Handle'])"
      ],
      "execution_count": 109,
      "outputs": []
    },
    {
      "cell_type": "code",
      "metadata": {
        "id": "bFGmaeRYySjl",
        "colab_type": "code",
        "colab": {}
      },
      "source": [
        "df[\"Number\"]= df.Number.astype(int)\n",
        "df.sort_values('Number', inplace=True)\n",
        "df.set_index('Number', inplace=True)"
      ],
      "execution_count": 110,
      "outputs": []
    },
    {
      "cell_type": "code",
      "metadata": {
        "id": "F-rbw6qf8eUb",
        "colab_type": "code",
        "colab": {
          "base_uri": "https://localhost:8080/",
          "height": 122
        },
        "outputId": "761e915b-d277-42f8-f3a4-396cb0a36c10"
      },
      "source": [
        "from google.colab import drive\n",
        "drive.mount('/content/drive')\n",
        "drive.mount('/content/gdrive',force_remount=True)\n",
        "root_path = 'gdrive/My Drive/Kaggle_project/'"
      ],
      "execution_count": 96,
      "outputs": [
        {
          "output_type": "stream",
          "text": [
            "Go to this URL in a browser: https://accounts.google.com/o/oauth2/auth?client_id=947318989803-6bn6qk8qdgf4n4g3pfee6491hc0brc4i.apps.googleusercontent.com&redirect_uri=urn%3aietf%3awg%3aoauth%3a2.0%3aoob&response_type=code&scope=email%20https%3a%2f%2fwww.googleapis.com%2fauth%2fdocs.test%20https%3a%2f%2fwww.googleapis.com%2fauth%2fdrive%20https%3a%2f%2fwww.googleapis.com%2fauth%2fdrive.photos.readonly%20https%3a%2f%2fwww.googleapis.com%2fauth%2fpeopleapi.readonly\n",
            "\n",
            "Enter your authorization code:\n",
            "··········\n",
            "Mounted at /content/drive\n"
          ],
          "name": "stdout"
        }
      ]
    },
    {
      "cell_type": "code",
      "metadata": {
        "id": "9vlUQof99jtz",
        "colab_type": "code",
        "colab": {
          "base_uri": "https://localhost:8080/",
          "height": 34
        },
        "outputId": "9bbb2ec1-eb86-42b9-af6f-631440a78571"
      },
      "source": [
        "drive.mount('/content/gdrive',force_remount=True)\n",
        "root_path = 'gdrive/My Drive/Kaggle_project/'"
      ],
      "execution_count": 98,
      "outputs": [
        {
          "output_type": "stream",
          "text": [
            "Mounted at /content/gdrive\n"
          ],
          "name": "stdout"
        }
      ]
    },
    {
      "cell_type": "code",
      "metadata": {
        "id": "RbCfX3RGF689",
        "colab_type": "code",
        "colab": {
          "base_uri": "https://localhost:8080/",
          "height": 235
        },
        "outputId": "1c75f007-e504-4be3-b78e-2088aeea71e9"
      },
      "source": [
        "df.head()"
      ],
      "execution_count": 111,
      "outputs": [
        {
          "output_type": "execute_result",
          "data": {
            "text/html": [
              "<div>\n",
              "<style scoped>\n",
              "    .dataframe tbody tr th:only-of-type {\n",
              "        vertical-align: middle;\n",
              "    }\n",
              "\n",
              "    .dataframe tbody tr th {\n",
              "        vertical-align: top;\n",
              "    }\n",
              "\n",
              "    .dataframe thead th {\n",
              "        text-align: right;\n",
              "    }\n",
              "</style>\n",
              "<table border=\"1\" class=\"dataframe\">\n",
              "  <thead>\n",
              "    <tr style=\"text-align: right;\">\n",
              "      <th></th>\n",
              "      <th>Name</th>\n",
              "      <th>Handle</th>\n",
              "    </tr>\n",
              "    <tr>\n",
              "      <th>Number</th>\n",
              "      <th></th>\n",
              "      <th></th>\n",
              "    </tr>\n",
              "  </thead>\n",
              "  <tbody>\n",
              "    <tr>\n",
              "      <th>1</th>\n",
              "      <td>Trevor Noah</td>\n",
              "      <td>@Trevornoah</td>\n",
              "    </tr>\n",
              "    <tr>\n",
              "      <th>2</th>\n",
              "      <td>Gareth Cliff</td>\n",
              "      <td>@GarethCliff</td>\n",
              "    </tr>\n",
              "    <tr>\n",
              "      <th>3</th>\n",
              "      <td>Zuma</td>\n",
              "      <td>@SAPresident</td>\n",
              "    </tr>\n",
              "    <tr>\n",
              "      <th>4</th>\n",
              "      <td>News24</td>\n",
              "      <td>@News24</td>\n",
              "    </tr>\n",
              "    <tr>\n",
              "      <th>5</th>\n",
              "      <td>Julius Sello Malema</td>\n",
              "      <td>@Julius_S_Malema</td>\n",
              "    </tr>\n",
              "  </tbody>\n",
              "</table>\n",
              "</div>"
            ],
            "text/plain": [
              "                       Name            Handle\n",
              "Number                                       \n",
              "1               Trevor Noah       @Trevornoah\n",
              "2              Gareth Cliff      @GarethCliff\n",
              "3                      Zuma      @SAPresident\n",
              "4                    News24           @News24\n",
              "5       Julius Sello Malema  @Julius_S_Malema"
            ]
          },
          "metadata": {
            "tags": []
          },
          "execution_count": 111
        }
      ]
    },
    {
      "cell_type": "code",
      "metadata": {
        "id": "KDdxGZQW1Fim",
        "colab_type": "code",
        "colab": {}
      },
      "source": [
        "url= 'https://www.atlanticcouncil.org/blogs/africasource/african-leaders-respond-to-coronavirus-on-twitter/'"
      ],
      "execution_count": 112,
      "outputs": []
    },
    {
      "cell_type": "code",
      "metadata": {
        "id": "0CNiBEg_DsnF",
        "colab_type": "code",
        "colab": {
          "base_uri": "https://localhost:8080/",
          "height": 198
        },
        "outputId": "798a243c-934f-40c3-8956-dae8c7383aea"
      },
      "source": [
        "\n",
        "res = get_elements('https://africafreak.com/100-most-influential-twitter-users-in-africa','h2')\n",
        "influencers = get_influencers(res)"
      ],
      "execution_count": 135,
      "outputs": [
        {
          "output_type": "error",
          "ename": "NameError",
          "evalue": "ignored",
          "traceback": [
            "\u001b[0;31m---------------------------------------------------------------------------\u001b[0m",
            "\u001b[0;31mNameError\u001b[0m                                 Traceback (most recent call last)",
            "\u001b[0;32m<ipython-input-135-b1c6bb821f0d>\u001b[0m in \u001b[0;36m<module>\u001b[0;34m()\u001b[0m\n\u001b[1;32m      1\u001b[0m \u001b[0;34m\u001b[0m\u001b[0m\n\u001b[1;32m      2\u001b[0m \u001b[0mres\u001b[0m \u001b[0;34m=\u001b[0m \u001b[0mget_elements\u001b[0m\u001b[0;34m(\u001b[0m\u001b[0;34m'https://africafreak.com/100-most-influential-twitter-users-in-africa'\u001b[0m\u001b[0;34m,\u001b[0m\u001b[0;34m'h2'\u001b[0m\u001b[0;34m)\u001b[0m\u001b[0;34m\u001b[0m\u001b[0;34m\u001b[0m\u001b[0m\n\u001b[0;32m----> 3\u001b[0;31m \u001b[0minfluencers\u001b[0m \u001b[0;34m=\u001b[0m \u001b[0mget_influencers\u001b[0m\u001b[0;34m(\u001b[0m\u001b[0mres\u001b[0m\u001b[0;34m)\u001b[0m\u001b[0;34m\u001b[0m\u001b[0;34m\u001b[0m\u001b[0m\n\u001b[0m",
            "\u001b[0;31mNameError\u001b[0m: name 'get_influencers' is not defined"
          ]
        }
      ]
    },
    {
      "cell_type": "code",
      "metadata": {
        "id": "CpghvHNVPrcf",
        "colab_type": "code",
        "colab": {
          "base_uri": "https://localhost:8080/",
          "height": 136
        },
        "outputId": "678add81-782a-43f4-ccd0-c71e3426b859"
      },
      "source": [
        "  response = simple_get(url)\n",
        "  res = get_elements(response, search={'find_all':{'class_':'wp-block-embed__wrapper'}})\n",
        "  pattern = \"@[a-zA-Z]+[0-9]*[/_*]*[a-zA-Z]*\"\n",
        "  twitter_handle = re.findall(pattern, str(res))\n",
        "  print(\"The total number of African leaders extracted\", len(twitter_handle))\n",
        "  twitter_handle[:5]"
      ],
      "execution_count": 141,
      "outputs": [
        {
          "output_type": "stream",
          "text": [
            "findaing all of {'class_': 'wp-block-embed__wrapper'}\n",
            "The total number of African leaders extracted 52\n"
          ],
          "name": "stdout"
        },
        {
          "output_type": "execute_result",
          "data": {
            "text/plain": [
              "['@EswatiniGovern1',\n",
              " '@MalawiGovt',\n",
              " '@hagegeingob',\n",
              " '@FinanceSC',\n",
              " '@PresidencyZA']"
            ]
          },
          "metadata": {
            "tags": []
          },
          "execution_count": 141
        }
      ]
    },
    {
      "cell_type": "markdown",
      "metadata": {
        "id": "qzwJg9urxGiw",
        "colab_type": "text"
      },
      "source": [
        "### Twitter Scraping to find the follower counts and most used Hastags"
      ]
    },
    {
      "cell_type": "code",
      "metadata": {
        "id": "drIB42K412oK",
        "colab_type": "code",
        "colab": {}
      },
      "source": [
        "\n",
        "followers_count = {}\n",
        "for count in range(len(handle)):\n",
        "  try:\n",
        "    user = api.get_user(handle[count])\n",
        "    followers_count[handle[count]]= user.followers_count\n",
        "  except Exception as e:\n",
        "    pass"
      ],
      "execution_count": 117,
      "outputs": []
    },
    {
      "cell_type": "code",
      "metadata": {
        "id": "fo9eTD5MOKNw",
        "colab_type": "code",
        "colab": {
          "base_uri": "https://localhost:8080/",
          "height": 34
        },
        "outputId": "4600c9c9-697b-4a0e-e25d-7af8bb844639"
      },
      "source": [
        "len(followers_count)"
      ],
      "execution_count": 118,
      "outputs": [
        {
          "output_type": "execute_result",
          "data": {
            "text/plain": [
              "93"
            ]
          },
          "metadata": {
            "tags": []
          },
          "execution_count": 118
        }
      ]
    },
    {
      "cell_type": "code",
      "metadata": {
        "id": "PnOANzZ3yPOQ",
        "colab_type": "code",
        "colab": {}
      },
      "source": [
        "df['Follower_count']= df['Handle'].map(followers_count)"
      ],
      "execution_count": 119,
      "outputs": []
    },
    {
      "cell_type": "code",
      "metadata": {
        "id": "BnydDM5tNTPY",
        "colab_type": "code",
        "colab": {}
      },
      "source": [
        "df.sort_values('Follower_count', inplace=True, ascending=False)"
      ],
      "execution_count": 120,
      "outputs": []
    },
    {
      "cell_type": "code",
      "metadata": {
        "id": "sA_FXrY2bSpV",
        "colab_type": "code",
        "colab": {
          "base_uri": "https://localhost:8080/",
          "height": 235
        },
        "outputId": "e7031d85-be06-4d55-ce67-ccf21c9db538"
      },
      "source": [
        "df.head()"
      ],
      "execution_count": 121,
      "outputs": [
        {
          "output_type": "execute_result",
          "data": {
            "text/html": [
              "<div>\n",
              "<style scoped>\n",
              "    .dataframe tbody tr th:only-of-type {\n",
              "        vertical-align: middle;\n",
              "    }\n",
              "\n",
              "    .dataframe tbody tr th {\n",
              "        vertical-align: top;\n",
              "    }\n",
              "\n",
              "    .dataframe thead th {\n",
              "        text-align: right;\n",
              "    }\n",
              "</style>\n",
              "<table border=\"1\" class=\"dataframe\">\n",
              "  <thead>\n",
              "    <tr style=\"text-align: right;\">\n",
              "      <th></th>\n",
              "      <th>Name</th>\n",
              "      <th>Handle</th>\n",
              "      <th>Follower_count</th>\n",
              "    </tr>\n",
              "    <tr>\n",
              "      <th>Number</th>\n",
              "      <th></th>\n",
              "      <th></th>\n",
              "      <th></th>\n",
              "    </tr>\n",
              "  </thead>\n",
              "  <tbody>\n",
              "    <tr>\n",
              "      <th>1</th>\n",
              "      <td>Trevor Noah</td>\n",
              "      <td>@Trevornoah</td>\n",
              "      <td>10800941.0</td>\n",
              "    </tr>\n",
              "    <tr>\n",
              "      <th>4</th>\n",
              "      <td>News24</td>\n",
              "      <td>@News24</td>\n",
              "      <td>3574229.0</td>\n",
              "    </tr>\n",
              "    <tr>\n",
              "      <th>5</th>\n",
              "      <td>Julius Sello Malema</td>\n",
              "      <td>@Julius_S_Malema</td>\n",
              "      <td>3124656.0</td>\n",
              "    </tr>\n",
              "    <tr>\n",
              "      <th>2</th>\n",
              "      <td>Gareth Cliff</td>\n",
              "      <td>@GarethCliff</td>\n",
              "      <td>1974376.0</td>\n",
              "    </tr>\n",
              "    <tr>\n",
              "      <th>15</th>\n",
              "      <td>Euphonik™♛</td>\n",
              "      <td>@euphonik</td>\n",
              "      <td>1753722.0</td>\n",
              "    </tr>\n",
              "  </tbody>\n",
              "</table>\n",
              "</div>"
            ],
            "text/plain": [
              "                       Name            Handle  Follower_count\n",
              "Number                                                       \n",
              "1               Trevor Noah       @Trevornoah      10800941.0\n",
              "4                    News24           @News24       3574229.0\n",
              "5       Julius Sello Malema  @Julius_S_Malema       3124656.0\n",
              "2              Gareth Cliff      @GarethCliff       1974376.0\n",
              "15               Euphonik™♛         @euphonik       1753722.0"
            ]
          },
          "metadata": {
            "tags": []
          },
          "execution_count": 121
        }
      ]
    },
    {
      "cell_type": "code",
      "metadata": {
        "id": "RSpi53bYAVja",
        "colab_type": "code",
        "colab": {
          "base_uri": "https://localhost:8080/",
          "height": 170
        },
        "outputId": "23df4a3e-915a-45aa-a0d0-7b6efda59548"
      },
      "source": [
        "#I tried to check all the null values to confirm the problem\n",
        "dfnull = df[df.isna().any(axis=1)]\n",
        "print (dfnull)"
      ],
      "execution_count": 125,
      "outputs": [
        {
          "output_type": "stream",
          "text": [
            "                    Name            Handle  Follower_count\n",
            "Number                                                    \n",
            "13           John Robbie    @702JohnRobbie             NaN\n",
            "36           The New Age      @The_New_Age             NaN\n",
            "50          Afrinnovator     @Afrinnovator             NaN\n",
            "67          drew hinshaw     @drewfhinshaw             NaN\n",
            "73           Karen Allen    @BBCKarenAllen             NaN\n",
            "74      Vanessa Raphaely  @hurricanevaness             NaN\n",
            "88             andBeyond  @andBeyondSafari             NaN\n"
          ],
          "name": "stdout"
        }
      ]
    },
    {
      "cell_type": "code",
      "metadata": {
        "id": "XkOOOHz6_w9F",
        "colab_type": "code",
        "colab": {}
      },
      "source": [
        "#i dropped all rows for blocked account that is returned null value for follower count i also performed a twitter search to confirm this\n",
        "df.dropna(inplace=True)"
      ],
      "execution_count": 126,
      "outputs": []
    },
    {
      "cell_type": "code",
      "metadata": {
        "id": "TDjUJ4pUQZBv",
        "colab_type": "code",
        "colab": {}
      },
      "source": [
        "first_ten = df.head(10)"
      ],
      "execution_count": null,
      "outputs": []
    },
    {
      "cell_type": "code",
      "metadata": {
        "id": "zuEKRuY-WI6G",
        "colab_type": "code",
        "colab": {}
      },
      "source": [
        " first_ten.to_csv (\"/content/gdrive/My Drive/Colab Notebooks/African_influencer.csv\", index = False, header=True)"
      ],
      "execution_count": 127,
      "outputs": []
    },
    {
      "cell_type": "code",
      "metadata": {
        "id": "cEKWcuT6Nvte",
        "colab_type": "code",
        "colab": {}
      },
      "source": [
        "african_follower = {}\n",
        "new_one ={}\n",
        "fullname = []\n",
        "for count in range(len(twitter_handle)):\n",
        "  try:\n",
        "    user = api.get_user(twitter_handle[count])\n",
        "    african_follower[twitter_handle[count]]= user.followers_count\n",
        "    new_one[twitter_handle[count]]= user.name\n",
        "\n",
        "    \n",
        "  except Exception as e:\n",
        "    pass"
      ],
      "execution_count": 143,
      "outputs": []
    },
    {
      "cell_type": "code",
      "metadata": {
        "id": "M3uWjQaFZNJJ",
        "colab_type": "code",
        "colab": {}
      },
      "source": [
        "df2 = pd.DataFrame(twitter_handle, columns=['Twitter Handle'])\n",
        "df2['Follower_count']= df2['Twitter Handle'].map(african_follower)\n",
        "df2[\"Name\"] = df2['Twitter Handle'].map(new_one)\n",
        "df2.sort_values('Follower_count', inplace=True, ascending=False)\n",
        "df2.drop_duplicates(inplace=True) "
      ],
      "execution_count": 144,
      "outputs": []
    },
    {
      "cell_type": "code",
      "metadata": {
        "id": "xjNyYMZGgkH5",
        "colab_type": "code",
        "colab": {}
      },
      "source": [
        "topten_african_leader = df.head(10)"
      ],
      "execution_count": 146,
      "outputs": []
    },
    {
      "cell_type": "code",
      "metadata": {
        "id": "U9TC-BKscYs3",
        "colab_type": "code",
        "colab": {}
      },
      "source": [
        "topten_african_leader.to_csv(\"/content/drive/My Drive/Colab Notebooks/African_leaders.csv\", index = False, header=True)"
      ],
      "execution_count": null,
      "outputs": []
    },
    {
      "cell_type": "code",
      "metadata": {
        "id": "DEyu5v1bZaNH",
        "colab_type": "code",
        "colab": {
          "base_uri": "https://localhost:8080/",
          "height": 359
        },
        "outputId": "bbd99fb1-755a-4774-c646-9ac6cc3a5fe2"
      },
      "source": [
        "df2.head(10)"
      ],
      "execution_count": 148,
      "outputs": [
        {
          "output_type": "execute_result",
          "data": {
            "text/html": [
              "<div>\n",
              "<style scoped>\n",
              "    .dataframe tbody tr th:only-of-type {\n",
              "        vertical-align: middle;\n",
              "    }\n",
              "\n",
              "    .dataframe tbody tr th {\n",
              "        vertical-align: top;\n",
              "    }\n",
              "\n",
              "    .dataframe thead th {\n",
              "        text-align: right;\n",
              "    }\n",
              "</style>\n",
              "<table border=\"1\" class=\"dataframe\">\n",
              "  <thead>\n",
              "    <tr style=\"text-align: right;\">\n",
              "      <th></th>\n",
              "      <th>Twitter Handle</th>\n",
              "      <th>Follower_count</th>\n",
              "      <th>Name</th>\n",
              "    </tr>\n",
              "  </thead>\n",
              "  <tbody>\n",
              "    <tr>\n",
              "      <th>16</th>\n",
              "      <td>@WHO</td>\n",
              "      <td>8095178</td>\n",
              "      <td>World Health Organization (WHO)</td>\n",
              "    </tr>\n",
              "    <tr>\n",
              "      <th>47</th>\n",
              "      <td>@MBuhari</td>\n",
              "      <td>3267424</td>\n",
              "      <td>Muhammadu Buhari</td>\n",
              "    </tr>\n",
              "    <tr>\n",
              "      <th>22</th>\n",
              "      <td>@BorisJohnson</td>\n",
              "      <td>2906976</td>\n",
              "      <td>Boris Johnson #StayAlert</td>\n",
              "    </tr>\n",
              "    <tr>\n",
              "      <th>48</th>\n",
              "      <td>@PaulKagame</td>\n",
              "      <td>1980621</td>\n",
              "      <td>Paul Kagame</td>\n",
              "    </tr>\n",
              "    <tr>\n",
              "      <th>29</th>\n",
              "      <td>@KagutaMuseveni</td>\n",
              "      <td>1809068</td>\n",
              "      <td>Yoweri K Museveni</td>\n",
              "    </tr>\n",
              "    <tr>\n",
              "      <th>4</th>\n",
              "      <td>@PresidencyZA</td>\n",
              "      <td>1596864</td>\n",
              "      <td>Presidency | South Africa 🇿🇦</td>\n",
              "    </tr>\n",
              "    <tr>\n",
              "      <th>41</th>\n",
              "      <td>@NAkufoAddo</td>\n",
              "      <td>1503822</td>\n",
              "      <td>Nana Akufo-Addo</td>\n",
              "    </tr>\n",
              "    <tr>\n",
              "      <th>21</th>\n",
              "      <td>@CyrilRamaphosa</td>\n",
              "      <td>1483153</td>\n",
              "      <td>Cyril Ramaphosa 🇿🇦 #StaySafe</td>\n",
              "    </tr>\n",
              "    <tr>\n",
              "      <th>49</th>\n",
              "      <td>@Macky_Sall</td>\n",
              "      <td>1372441</td>\n",
              "      <td>Macky Sall</td>\n",
              "    </tr>\n",
              "    <tr>\n",
              "      <th>15</th>\n",
              "      <td>@StateHouseKenya</td>\n",
              "      <td>1101951</td>\n",
              "      <td>State House Kenya</td>\n",
              "    </tr>\n",
              "  </tbody>\n",
              "</table>\n",
              "</div>"
            ],
            "text/plain": [
              "      Twitter Handle  Follower_count                             Name\n",
              "16              @WHO         8095178  World Health Organization (WHO)\n",
              "47          @MBuhari         3267424                 Muhammadu Buhari\n",
              "22     @BorisJohnson         2906976         Boris Johnson #StayAlert\n",
              "48       @PaulKagame         1980621                      Paul Kagame\n",
              "29   @KagutaMuseveni         1809068                Yoweri K Museveni\n",
              "4      @PresidencyZA         1596864     Presidency | South Africa 🇿🇦\n",
              "41       @NAkufoAddo         1503822                  Nana Akufo-Addo\n",
              "21   @CyrilRamaphosa         1483153     Cyril Ramaphosa 🇿🇦 #StaySafe\n",
              "49       @Macky_Sall         1372441                       Macky Sall\n",
              "15  @StateHouseKenya         1101951                State House Kenya"
            ]
          },
          "metadata": {
            "tags": []
          },
          "execution_count": 148
        }
      ]
    },
    {
      "cell_type": "code",
      "metadata": {
        "id": "v4_eBDJlcBnA",
        "colab_type": "code",
        "colab": {}
      },
      "source": [
        "/content/gdrive/My Drive/Colab Notebooks"
      ],
      "execution_count": null,
      "outputs": []
    }
  ]
}